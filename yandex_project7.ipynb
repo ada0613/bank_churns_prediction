{
 "cells": [
  {
   "cell_type": "markdown",
   "metadata": {},
   "source": [
    "# Predicting of Customer Churn By Machine Learning"
   ]
  },
  {
   "cell_type": "markdown",
   "metadata": {},
   "source": [
    "Beta Bank customers are leaving: little by little, chipping away every month. The bankers figured out it’s cheaper to save the existing customers rather than to attract new ones.\n",
    "\n",
    "We need to predict whether a customer will leave the bank soon. You have the data on clients’ past behavior and termination of contracts with the bank.\n",
    "\n",
    "Build a model with the maximum possible F1 score. To pass the project, you need an F1 score of at least 0.59. Check the F1 for the test set.\n",
    "\n",
    "Additionally, measure the AUC-ROC metric and compare it with the F1.\n",
    "\n",
    "In this project, we are going to use the Logistic Regression and Random Forest Classifier models."
   ]
  },
  {
   "cell_type": "code",
   "execution_count": 1,
   "metadata": {},
   "outputs": [],
   "source": [
    "# import pandas\n",
    "import pandas as pd\n",
    "# import numpy\n",
    "import numpy as np\n",
    "# import matplot\n",
    "import matplotlib.pyplot as plt\n",
    "import seaborn as sns\n",
    "# models\n",
    "from sklearn.tree import DecisionTreeClassifier\n",
    "from sklearn.ensemble import RandomForestClassifier\n",
    "from sklearn.linear_model import LogisticRegression\n",
    "from sklearn.model_selection import train_test_split\n",
    "# metrics\n",
    "from sklearn.metrics import mean_squared_error, accuracy_score, f1_score, confusion_matrix, roc_auc_score, roc_curve, precision_recall_curve\n",
    "from sklearn.utils import shuffle\n"
   ]
  },
  {
   "cell_type": "markdown",
   "metadata": {},
   "source": [
    "## Open the data file and study the general information"
   ]
  },
  {
   "cell_type": "code",
   "execution_count": 2,
   "metadata": {},
   "outputs": [
    {
     "name": "stdout",
     "output_type": "stream",
     "text": [
      "Read the data successfully. \n"
     ]
    }
   ],
   "source": [
    "# open dataset\n",
    "try: \n",
    "    df = pd.read_csv('/datasets/Churn.csv')\n",
    "except:\n",
    "    print('Somethong went wrong.')\n",
    "else:\n",
    "    print(\"Read the data successfully. \")"
   ]
  },
  {
   "cell_type": "code",
   "execution_count": 3,
   "metadata": {
    "scrolled": true
   },
   "outputs": [
    {
     "data": {
      "text/html": [
       "<div>\n",
       "<style scoped>\n",
       "    .dataframe tbody tr th:only-of-type {\n",
       "        vertical-align: middle;\n",
       "    }\n",
       "\n",
       "    .dataframe tbody tr th {\n",
       "        vertical-align: top;\n",
       "    }\n",
       "\n",
       "    .dataframe thead th {\n",
       "        text-align: right;\n",
       "    }\n",
       "</style>\n",
       "<table border=\"1\" class=\"dataframe\">\n",
       "  <thead>\n",
       "    <tr style=\"text-align: right;\">\n",
       "      <th></th>\n",
       "      <th>RowNumber</th>\n",
       "      <th>CustomerId</th>\n",
       "      <th>Surname</th>\n",
       "      <th>CreditScore</th>\n",
       "      <th>Geography</th>\n",
       "      <th>Gender</th>\n",
       "      <th>Age</th>\n",
       "      <th>Tenure</th>\n",
       "      <th>Balance</th>\n",
       "      <th>NumOfProducts</th>\n",
       "      <th>HasCrCard</th>\n",
       "      <th>IsActiveMember</th>\n",
       "      <th>EstimatedSalary</th>\n",
       "      <th>Exited</th>\n",
       "    </tr>\n",
       "  </thead>\n",
       "  <tbody>\n",
       "    <tr>\n",
       "      <td>0</td>\n",
       "      <td>1</td>\n",
       "      <td>15634602</td>\n",
       "      <td>Hargrave</td>\n",
       "      <td>619</td>\n",
       "      <td>France</td>\n",
       "      <td>Female</td>\n",
       "      <td>42</td>\n",
       "      <td>2.0</td>\n",
       "      <td>0.00</td>\n",
       "      <td>1</td>\n",
       "      <td>1</td>\n",
       "      <td>1</td>\n",
       "      <td>101348.88</td>\n",
       "      <td>1</td>\n",
       "    </tr>\n",
       "    <tr>\n",
       "      <td>1</td>\n",
       "      <td>2</td>\n",
       "      <td>15647311</td>\n",
       "      <td>Hill</td>\n",
       "      <td>608</td>\n",
       "      <td>Spain</td>\n",
       "      <td>Female</td>\n",
       "      <td>41</td>\n",
       "      <td>1.0</td>\n",
       "      <td>83807.86</td>\n",
       "      <td>1</td>\n",
       "      <td>0</td>\n",
       "      <td>1</td>\n",
       "      <td>112542.58</td>\n",
       "      <td>0</td>\n",
       "    </tr>\n",
       "    <tr>\n",
       "      <td>2</td>\n",
       "      <td>3</td>\n",
       "      <td>15619304</td>\n",
       "      <td>Onio</td>\n",
       "      <td>502</td>\n",
       "      <td>France</td>\n",
       "      <td>Female</td>\n",
       "      <td>42</td>\n",
       "      <td>8.0</td>\n",
       "      <td>159660.80</td>\n",
       "      <td>3</td>\n",
       "      <td>1</td>\n",
       "      <td>0</td>\n",
       "      <td>113931.57</td>\n",
       "      <td>1</td>\n",
       "    </tr>\n",
       "    <tr>\n",
       "      <td>3</td>\n",
       "      <td>4</td>\n",
       "      <td>15701354</td>\n",
       "      <td>Boni</td>\n",
       "      <td>699</td>\n",
       "      <td>France</td>\n",
       "      <td>Female</td>\n",
       "      <td>39</td>\n",
       "      <td>1.0</td>\n",
       "      <td>0.00</td>\n",
       "      <td>2</td>\n",
       "      <td>0</td>\n",
       "      <td>0</td>\n",
       "      <td>93826.63</td>\n",
       "      <td>0</td>\n",
       "    </tr>\n",
       "    <tr>\n",
       "      <td>4</td>\n",
       "      <td>5</td>\n",
       "      <td>15737888</td>\n",
       "      <td>Mitchell</td>\n",
       "      <td>850</td>\n",
       "      <td>Spain</td>\n",
       "      <td>Female</td>\n",
       "      <td>43</td>\n",
       "      <td>2.0</td>\n",
       "      <td>125510.82</td>\n",
       "      <td>1</td>\n",
       "      <td>1</td>\n",
       "      <td>1</td>\n",
       "      <td>79084.10</td>\n",
       "      <td>0</td>\n",
       "    </tr>\n",
       "  </tbody>\n",
       "</table>\n",
       "</div>"
      ],
      "text/plain": [
       "   RowNumber  CustomerId   Surname  CreditScore Geography  Gender  Age  \\\n",
       "0          1    15634602  Hargrave          619    France  Female   42   \n",
       "1          2    15647311      Hill          608     Spain  Female   41   \n",
       "2          3    15619304      Onio          502    France  Female   42   \n",
       "3          4    15701354      Boni          699    France  Female   39   \n",
       "4          5    15737888  Mitchell          850     Spain  Female   43   \n",
       "\n",
       "   Tenure    Balance  NumOfProducts  HasCrCard  IsActiveMember  \\\n",
       "0     2.0       0.00              1          1               1   \n",
       "1     1.0   83807.86              1          0               1   \n",
       "2     8.0  159660.80              3          1               0   \n",
       "3     1.0       0.00              2          0               0   \n",
       "4     2.0  125510.82              1          1               1   \n",
       "\n",
       "   EstimatedSalary  Exited  \n",
       "0        101348.88       1  \n",
       "1        112542.58       0  \n",
       "2        113931.57       1  \n",
       "3         93826.63       0  \n",
       "4         79084.10       0  "
      ]
     },
     "execution_count": 3,
     "metadata": {},
     "output_type": "execute_result"
    }
   ],
   "source": [
    "# check the first 5 rows of dataframe\n",
    "df.head()"
   ]
  },
  {
   "cell_type": "code",
   "execution_count": 4,
   "metadata": {},
   "outputs": [
    {
     "data": {
      "text/html": [
       "<div>\n",
       "<style scoped>\n",
       "    .dataframe tbody tr th:only-of-type {\n",
       "        vertical-align: middle;\n",
       "    }\n",
       "\n",
       "    .dataframe tbody tr th {\n",
       "        vertical-align: top;\n",
       "    }\n",
       "\n",
       "    .dataframe thead th {\n",
       "        text-align: right;\n",
       "    }\n",
       "</style>\n",
       "<table border=\"1\" class=\"dataframe\">\n",
       "  <thead>\n",
       "    <tr style=\"text-align: right;\">\n",
       "      <th></th>\n",
       "      <th>RowNumber</th>\n",
       "      <th>CustomerId</th>\n",
       "      <th>Surname</th>\n",
       "      <th>CreditScore</th>\n",
       "      <th>Geography</th>\n",
       "      <th>Gender</th>\n",
       "      <th>Age</th>\n",
       "      <th>Tenure</th>\n",
       "      <th>Balance</th>\n",
       "      <th>NumOfProducts</th>\n",
       "      <th>HasCrCard</th>\n",
       "      <th>IsActiveMember</th>\n",
       "      <th>EstimatedSalary</th>\n",
       "      <th>Exited</th>\n",
       "    </tr>\n",
       "  </thead>\n",
       "  <tbody>\n",
       "    <tr>\n",
       "      <td>9995</td>\n",
       "      <td>9996</td>\n",
       "      <td>15606229</td>\n",
       "      <td>Obijiaku</td>\n",
       "      <td>771</td>\n",
       "      <td>France</td>\n",
       "      <td>Male</td>\n",
       "      <td>39</td>\n",
       "      <td>5.0</td>\n",
       "      <td>0.00</td>\n",
       "      <td>2</td>\n",
       "      <td>1</td>\n",
       "      <td>0</td>\n",
       "      <td>96270.64</td>\n",
       "      <td>0</td>\n",
       "    </tr>\n",
       "    <tr>\n",
       "      <td>9996</td>\n",
       "      <td>9997</td>\n",
       "      <td>15569892</td>\n",
       "      <td>Johnstone</td>\n",
       "      <td>516</td>\n",
       "      <td>France</td>\n",
       "      <td>Male</td>\n",
       "      <td>35</td>\n",
       "      <td>10.0</td>\n",
       "      <td>57369.61</td>\n",
       "      <td>1</td>\n",
       "      <td>1</td>\n",
       "      <td>1</td>\n",
       "      <td>101699.77</td>\n",
       "      <td>0</td>\n",
       "    </tr>\n",
       "    <tr>\n",
       "      <td>9997</td>\n",
       "      <td>9998</td>\n",
       "      <td>15584532</td>\n",
       "      <td>Liu</td>\n",
       "      <td>709</td>\n",
       "      <td>France</td>\n",
       "      <td>Female</td>\n",
       "      <td>36</td>\n",
       "      <td>7.0</td>\n",
       "      <td>0.00</td>\n",
       "      <td>1</td>\n",
       "      <td>0</td>\n",
       "      <td>1</td>\n",
       "      <td>42085.58</td>\n",
       "      <td>1</td>\n",
       "    </tr>\n",
       "    <tr>\n",
       "      <td>9998</td>\n",
       "      <td>9999</td>\n",
       "      <td>15682355</td>\n",
       "      <td>Sabbatini</td>\n",
       "      <td>772</td>\n",
       "      <td>Germany</td>\n",
       "      <td>Male</td>\n",
       "      <td>42</td>\n",
       "      <td>3.0</td>\n",
       "      <td>75075.31</td>\n",
       "      <td>2</td>\n",
       "      <td>1</td>\n",
       "      <td>0</td>\n",
       "      <td>92888.52</td>\n",
       "      <td>1</td>\n",
       "    </tr>\n",
       "    <tr>\n",
       "      <td>9999</td>\n",
       "      <td>10000</td>\n",
       "      <td>15628319</td>\n",
       "      <td>Walker</td>\n",
       "      <td>792</td>\n",
       "      <td>France</td>\n",
       "      <td>Female</td>\n",
       "      <td>28</td>\n",
       "      <td>NaN</td>\n",
       "      <td>130142.79</td>\n",
       "      <td>1</td>\n",
       "      <td>1</td>\n",
       "      <td>0</td>\n",
       "      <td>38190.78</td>\n",
       "      <td>0</td>\n",
       "    </tr>\n",
       "  </tbody>\n",
       "</table>\n",
       "</div>"
      ],
      "text/plain": [
       "      RowNumber  CustomerId    Surname  CreditScore Geography  Gender  Age  \\\n",
       "9995       9996    15606229   Obijiaku          771    France    Male   39   \n",
       "9996       9997    15569892  Johnstone          516    France    Male   35   \n",
       "9997       9998    15584532        Liu          709    France  Female   36   \n",
       "9998       9999    15682355  Sabbatini          772   Germany    Male   42   \n",
       "9999      10000    15628319     Walker          792    France  Female   28   \n",
       "\n",
       "      Tenure    Balance  NumOfProducts  HasCrCard  IsActiveMember  \\\n",
       "9995     5.0       0.00              2          1               0   \n",
       "9996    10.0   57369.61              1          1               1   \n",
       "9997     7.0       0.00              1          0               1   \n",
       "9998     3.0   75075.31              2          1               0   \n",
       "9999     NaN  130142.79              1          1               0   \n",
       "\n",
       "      EstimatedSalary  Exited  \n",
       "9995         96270.64       0  \n",
       "9996        101699.77       0  \n",
       "9997         42085.58       1  \n",
       "9998         92888.52       1  \n",
       "9999         38190.78       0  "
      ]
     },
     "execution_count": 4,
     "metadata": {},
     "output_type": "execute_result"
    }
   ],
   "source": [
    "# check the last 5 rows of dataframe\n",
    "df.tail()"
   ]
  },
  {
   "cell_type": "code",
   "execution_count": 5,
   "metadata": {},
   "outputs": [
    {
     "name": "stdout",
     "output_type": "stream",
     "text": [
      "<class 'pandas.core.frame.DataFrame'>\n",
      "RangeIndex: 10000 entries, 0 to 9999\n",
      "Data columns (total 14 columns):\n",
      "RowNumber          10000 non-null int64\n",
      "CustomerId         10000 non-null int64\n",
      "Surname            10000 non-null object\n",
      "CreditScore        10000 non-null int64\n",
      "Geography          10000 non-null object\n",
      "Gender             10000 non-null object\n",
      "Age                10000 non-null int64\n",
      "Tenure             9091 non-null float64\n",
      "Balance            10000 non-null float64\n",
      "NumOfProducts      10000 non-null int64\n",
      "HasCrCard          10000 non-null int64\n",
      "IsActiveMember     10000 non-null int64\n",
      "EstimatedSalary    10000 non-null float64\n",
      "Exited             10000 non-null int64\n",
      "dtypes: float64(3), int64(8), object(3)\n",
      "memory usage: 1.1+ MB\n"
     ]
    }
   ],
   "source": [
    "# the information of dataframe\n",
    "df.info()"
   ]
  },
  {
   "cell_type": "code",
   "execution_count": 6,
   "metadata": {},
   "outputs": [
    {
     "data": {
      "text/html": [
       "<div>\n",
       "<style scoped>\n",
       "    .dataframe tbody tr th:only-of-type {\n",
       "        vertical-align: middle;\n",
       "    }\n",
       "\n",
       "    .dataframe tbody tr th {\n",
       "        vertical-align: top;\n",
       "    }\n",
       "\n",
       "    .dataframe thead th {\n",
       "        text-align: right;\n",
       "    }\n",
       "</style>\n",
       "<table border=\"1\" class=\"dataframe\">\n",
       "  <thead>\n",
       "    <tr style=\"text-align: right;\">\n",
       "      <th></th>\n",
       "      <th>RowNumber</th>\n",
       "      <th>CustomerId</th>\n",
       "      <th>CreditScore</th>\n",
       "      <th>Age</th>\n",
       "      <th>Tenure</th>\n",
       "      <th>Balance</th>\n",
       "      <th>NumOfProducts</th>\n",
       "      <th>HasCrCard</th>\n",
       "      <th>IsActiveMember</th>\n",
       "      <th>EstimatedSalary</th>\n",
       "      <th>Exited</th>\n",
       "    </tr>\n",
       "  </thead>\n",
       "  <tbody>\n",
       "    <tr>\n",
       "      <td>count</td>\n",
       "      <td>10000.00000</td>\n",
       "      <td>1.000000e+04</td>\n",
       "      <td>10000.000000</td>\n",
       "      <td>10000.000000</td>\n",
       "      <td>9091.000000</td>\n",
       "      <td>10000.000000</td>\n",
       "      <td>10000.000000</td>\n",
       "      <td>10000.00000</td>\n",
       "      <td>10000.000000</td>\n",
       "      <td>10000.000000</td>\n",
       "      <td>10000.000000</td>\n",
       "    </tr>\n",
       "    <tr>\n",
       "      <td>mean</td>\n",
       "      <td>5000.50000</td>\n",
       "      <td>1.569094e+07</td>\n",
       "      <td>650.528800</td>\n",
       "      <td>38.921800</td>\n",
       "      <td>4.997690</td>\n",
       "      <td>76485.889288</td>\n",
       "      <td>1.530200</td>\n",
       "      <td>0.70550</td>\n",
       "      <td>0.515100</td>\n",
       "      <td>100090.239881</td>\n",
       "      <td>0.203700</td>\n",
       "    </tr>\n",
       "    <tr>\n",
       "      <td>std</td>\n",
       "      <td>2886.89568</td>\n",
       "      <td>7.193619e+04</td>\n",
       "      <td>96.653299</td>\n",
       "      <td>10.487806</td>\n",
       "      <td>2.894723</td>\n",
       "      <td>62397.405202</td>\n",
       "      <td>0.581654</td>\n",
       "      <td>0.45584</td>\n",
       "      <td>0.499797</td>\n",
       "      <td>57510.492818</td>\n",
       "      <td>0.402769</td>\n",
       "    </tr>\n",
       "    <tr>\n",
       "      <td>min</td>\n",
       "      <td>1.00000</td>\n",
       "      <td>1.556570e+07</td>\n",
       "      <td>350.000000</td>\n",
       "      <td>18.000000</td>\n",
       "      <td>0.000000</td>\n",
       "      <td>0.000000</td>\n",
       "      <td>1.000000</td>\n",
       "      <td>0.00000</td>\n",
       "      <td>0.000000</td>\n",
       "      <td>11.580000</td>\n",
       "      <td>0.000000</td>\n",
       "    </tr>\n",
       "    <tr>\n",
       "      <td>25%</td>\n",
       "      <td>2500.75000</td>\n",
       "      <td>1.562853e+07</td>\n",
       "      <td>584.000000</td>\n",
       "      <td>32.000000</td>\n",
       "      <td>2.000000</td>\n",
       "      <td>0.000000</td>\n",
       "      <td>1.000000</td>\n",
       "      <td>0.00000</td>\n",
       "      <td>0.000000</td>\n",
       "      <td>51002.110000</td>\n",
       "      <td>0.000000</td>\n",
       "    </tr>\n",
       "    <tr>\n",
       "      <td>50%</td>\n",
       "      <td>5000.50000</td>\n",
       "      <td>1.569074e+07</td>\n",
       "      <td>652.000000</td>\n",
       "      <td>37.000000</td>\n",
       "      <td>5.000000</td>\n",
       "      <td>97198.540000</td>\n",
       "      <td>1.000000</td>\n",
       "      <td>1.00000</td>\n",
       "      <td>1.000000</td>\n",
       "      <td>100193.915000</td>\n",
       "      <td>0.000000</td>\n",
       "    </tr>\n",
       "    <tr>\n",
       "      <td>75%</td>\n",
       "      <td>7500.25000</td>\n",
       "      <td>1.575323e+07</td>\n",
       "      <td>718.000000</td>\n",
       "      <td>44.000000</td>\n",
       "      <td>7.000000</td>\n",
       "      <td>127644.240000</td>\n",
       "      <td>2.000000</td>\n",
       "      <td>1.00000</td>\n",
       "      <td>1.000000</td>\n",
       "      <td>149388.247500</td>\n",
       "      <td>0.000000</td>\n",
       "    </tr>\n",
       "    <tr>\n",
       "      <td>max</td>\n",
       "      <td>10000.00000</td>\n",
       "      <td>1.581569e+07</td>\n",
       "      <td>850.000000</td>\n",
       "      <td>92.000000</td>\n",
       "      <td>10.000000</td>\n",
       "      <td>250898.090000</td>\n",
       "      <td>4.000000</td>\n",
       "      <td>1.00000</td>\n",
       "      <td>1.000000</td>\n",
       "      <td>199992.480000</td>\n",
       "      <td>1.000000</td>\n",
       "    </tr>\n",
       "  </tbody>\n",
       "</table>\n",
       "</div>"
      ],
      "text/plain": [
       "         RowNumber    CustomerId   CreditScore           Age       Tenure  \\\n",
       "count  10000.00000  1.000000e+04  10000.000000  10000.000000  9091.000000   \n",
       "mean    5000.50000  1.569094e+07    650.528800     38.921800     4.997690   \n",
       "std     2886.89568  7.193619e+04     96.653299     10.487806     2.894723   \n",
       "min        1.00000  1.556570e+07    350.000000     18.000000     0.000000   \n",
       "25%     2500.75000  1.562853e+07    584.000000     32.000000     2.000000   \n",
       "50%     5000.50000  1.569074e+07    652.000000     37.000000     5.000000   \n",
       "75%     7500.25000  1.575323e+07    718.000000     44.000000     7.000000   \n",
       "max    10000.00000  1.581569e+07    850.000000     92.000000    10.000000   \n",
       "\n",
       "             Balance  NumOfProducts    HasCrCard  IsActiveMember  \\\n",
       "count   10000.000000   10000.000000  10000.00000    10000.000000   \n",
       "mean    76485.889288       1.530200      0.70550        0.515100   \n",
       "std     62397.405202       0.581654      0.45584        0.499797   \n",
       "min         0.000000       1.000000      0.00000        0.000000   \n",
       "25%         0.000000       1.000000      0.00000        0.000000   \n",
       "50%     97198.540000       1.000000      1.00000        1.000000   \n",
       "75%    127644.240000       2.000000      1.00000        1.000000   \n",
       "max    250898.090000       4.000000      1.00000        1.000000   \n",
       "\n",
       "       EstimatedSalary        Exited  \n",
       "count     10000.000000  10000.000000  \n",
       "mean     100090.239881      0.203700  \n",
       "std       57510.492818      0.402769  \n",
       "min          11.580000      0.000000  \n",
       "25%       51002.110000      0.000000  \n",
       "50%      100193.915000      0.000000  \n",
       "75%      149388.247500      0.000000  \n",
       "max      199992.480000      1.000000  "
      ]
     },
     "execution_count": 6,
     "metadata": {},
     "output_type": "execute_result"
    }
   ],
   "source": [
    "# check the statistics of dataframe\n",
    "df.describe()"
   ]
  },
  {
   "cell_type": "code",
   "execution_count": 7,
   "metadata": {},
   "outputs": [
    {
     "data": {
      "text/plain": [
       "(10000, 14)"
      ]
     },
     "execution_count": 7,
     "metadata": {},
     "output_type": "execute_result"
    }
   ],
   "source": [
    "# check the number of columns and rows of dataframe\n",
    "df.shape"
   ]
  },
  {
   "cell_type": "markdown",
   "metadata": {},
   "source": [
    "There are 10000 rows and 14 columns. "
   ]
  },
  {
   "cell_type": "code",
   "execution_count": 8,
   "metadata": {},
   "outputs": [
    {
     "data": {
      "text/plain": [
       "RowNumber            0\n",
       "CustomerId           0\n",
       "Surname              0\n",
       "CreditScore          0\n",
       "Geography            0\n",
       "Gender               0\n",
       "Age                  0\n",
       "Tenure             909\n",
       "Balance              0\n",
       "NumOfProducts        0\n",
       "HasCrCard            0\n",
       "IsActiveMember       0\n",
       "EstimatedSalary      0\n",
       "Exited               0\n",
       "dtype: int64"
      ]
     },
     "execution_count": 8,
     "metadata": {},
     "output_type": "execute_result"
    }
   ],
   "source": [
    "# check for the missing values\n",
    "df.isnull().sum()"
   ]
  },
  {
   "cell_type": "markdown",
   "metadata": {},
   "source": [
    "There are 909 missing numbers in `Tenure` column. "
   ]
  },
  {
   "cell_type": "code",
   "execution_count": 9,
   "metadata": {},
   "outputs": [
    {
     "data": {
      "text/plain": [
       "9.09"
      ]
     },
     "execution_count": 9,
     "metadata": {},
     "output_type": "execute_result"
    }
   ],
   "source": [
    "# check out the percentage of missing value in Tenure\n",
    "df['Tenure'].isna().sum()/len(df)*100"
   ]
  },
  {
   "cell_type": "markdown",
   "metadata": {},
   "source": [
    "We have 9.09% of values are missing. "
   ]
  },
  {
   "cell_type": "code",
   "execution_count": 10,
   "metadata": {},
   "outputs": [
    {
     "data": {
      "text/plain": [
       "0"
      ]
     },
     "execution_count": 10,
     "metadata": {},
     "output_type": "execute_result"
    }
   ],
   "source": [
    "# check for duplicates\n",
    "df.duplicated().sum()"
   ]
  },
  {
   "cell_type": "markdown",
   "metadata": {},
   "source": [
    "We don't have any duplicated values. "
   ]
  },
  {
   "cell_type": "markdown",
   "metadata": {},
   "source": [
    "### Conclusion\n",
    "* There are 10000 rows and 14 columns.\n",
    "* We don't have any duplicated values.\n",
    "* We found there were missing values in `Tenure` column, we are going to fix them in the next step."
   ]
  },
  {
   "cell_type": "markdown",
   "metadata": {},
   "source": [
    "## Preparing Data"
   ]
  },
  {
   "cell_type": "markdown",
   "metadata": {},
   "source": [
    "### Processing Missing values"
   ]
  },
  {
   "cell_type": "code",
   "execution_count": 11,
   "metadata": {},
   "outputs": [
    {
     "data": {
      "text/plain": [
       "count    9091.000000\n",
       "mean        4.997690\n",
       "std         2.894723\n",
       "min         0.000000\n",
       "25%         2.000000\n",
       "50%         5.000000\n",
       "75%         7.000000\n",
       "max        10.000000\n",
       "Name: Tenure, dtype: float64"
      ]
     },
     "execution_count": 11,
     "metadata": {},
     "output_type": "execute_result"
    }
   ],
   "source": [
    "df['Tenure'].describe()"
   ]
  },
  {
   "cell_type": "markdown",
   "metadata": {},
   "source": [
    "We notice the minimum value for `Tenure` is 0 and maximum value is 10, we can create a list with values between 0 and 10. And fill missing values with random numbers selecting between 0 and 10. "
   ]
  },
  {
   "cell_type": "code",
   "execution_count": 12,
   "metadata": {},
   "outputs": [],
   "source": [
    "fill_list = list(range(0, 11))\n",
    "df['Tenure'] = df['Tenure'].fillna(pd.Series(np.random.choice(fill_list, size = len(df.index))))"
   ]
  },
  {
   "cell_type": "code",
   "execution_count": 13,
   "metadata": {},
   "outputs": [
    {
     "data": {
      "text/plain": [
       "RowNumber          0\n",
       "CustomerId         0\n",
       "Surname            0\n",
       "CreditScore        0\n",
       "Geography          0\n",
       "Gender             0\n",
       "Age                0\n",
       "Tenure             0\n",
       "Balance            0\n",
       "NumOfProducts      0\n",
       "HasCrCard          0\n",
       "IsActiveMember     0\n",
       "EstimatedSalary    0\n",
       "Exited             0\n",
       "dtype: int64"
      ]
     },
     "execution_count": 13,
     "metadata": {},
     "output_type": "execute_result"
    }
   ],
   "source": [
    "# now we don't have missing values\n",
    "df.isnull().sum()"
   ]
  },
  {
   "cell_type": "markdown",
   "metadata": {},
   "source": [
    "### One-Hot encoding for the categorical features"
   ]
  },
  {
   "cell_type": "markdown",
   "metadata": {},
   "source": [
    "first drop unimportant columns "
   ]
  },
  {
   "cell_type": "code",
   "execution_count": 14,
   "metadata": {},
   "outputs": [
    {
     "data": {
      "text/html": [
       "<div>\n",
       "<style scoped>\n",
       "    .dataframe tbody tr th:only-of-type {\n",
       "        vertical-align: middle;\n",
       "    }\n",
       "\n",
       "    .dataframe tbody tr th {\n",
       "        vertical-align: top;\n",
       "    }\n",
       "\n",
       "    .dataframe thead th {\n",
       "        text-align: right;\n",
       "    }\n",
       "</style>\n",
       "<table border=\"1\" class=\"dataframe\">\n",
       "  <thead>\n",
       "    <tr style=\"text-align: right;\">\n",
       "      <th></th>\n",
       "      <th>CreditScore</th>\n",
       "      <th>Geography</th>\n",
       "      <th>Gender</th>\n",
       "      <th>Age</th>\n",
       "      <th>Tenure</th>\n",
       "      <th>Balance</th>\n",
       "      <th>NumOfProducts</th>\n",
       "      <th>HasCrCard</th>\n",
       "      <th>IsActiveMember</th>\n",
       "      <th>EstimatedSalary</th>\n",
       "      <th>Exited</th>\n",
       "    </tr>\n",
       "  </thead>\n",
       "  <tbody>\n",
       "    <tr>\n",
       "      <td>0</td>\n",
       "      <td>619</td>\n",
       "      <td>France</td>\n",
       "      <td>Female</td>\n",
       "      <td>42</td>\n",
       "      <td>2.0</td>\n",
       "      <td>0.00</td>\n",
       "      <td>1</td>\n",
       "      <td>1</td>\n",
       "      <td>1</td>\n",
       "      <td>101348.88</td>\n",
       "      <td>1</td>\n",
       "    </tr>\n",
       "    <tr>\n",
       "      <td>1</td>\n",
       "      <td>608</td>\n",
       "      <td>Spain</td>\n",
       "      <td>Female</td>\n",
       "      <td>41</td>\n",
       "      <td>1.0</td>\n",
       "      <td>83807.86</td>\n",
       "      <td>1</td>\n",
       "      <td>0</td>\n",
       "      <td>1</td>\n",
       "      <td>112542.58</td>\n",
       "      <td>0</td>\n",
       "    </tr>\n",
       "    <tr>\n",
       "      <td>2</td>\n",
       "      <td>502</td>\n",
       "      <td>France</td>\n",
       "      <td>Female</td>\n",
       "      <td>42</td>\n",
       "      <td>8.0</td>\n",
       "      <td>159660.80</td>\n",
       "      <td>3</td>\n",
       "      <td>1</td>\n",
       "      <td>0</td>\n",
       "      <td>113931.57</td>\n",
       "      <td>1</td>\n",
       "    </tr>\n",
       "    <tr>\n",
       "      <td>3</td>\n",
       "      <td>699</td>\n",
       "      <td>France</td>\n",
       "      <td>Female</td>\n",
       "      <td>39</td>\n",
       "      <td>1.0</td>\n",
       "      <td>0.00</td>\n",
       "      <td>2</td>\n",
       "      <td>0</td>\n",
       "      <td>0</td>\n",
       "      <td>93826.63</td>\n",
       "      <td>0</td>\n",
       "    </tr>\n",
       "    <tr>\n",
       "      <td>4</td>\n",
       "      <td>850</td>\n",
       "      <td>Spain</td>\n",
       "      <td>Female</td>\n",
       "      <td>43</td>\n",
       "      <td>2.0</td>\n",
       "      <td>125510.82</td>\n",
       "      <td>1</td>\n",
       "      <td>1</td>\n",
       "      <td>1</td>\n",
       "      <td>79084.10</td>\n",
       "      <td>0</td>\n",
       "    </tr>\n",
       "  </tbody>\n",
       "</table>\n",
       "</div>"
      ],
      "text/plain": [
       "   CreditScore Geography  Gender  Age  Tenure    Balance  NumOfProducts  \\\n",
       "0          619    France  Female   42     2.0       0.00              1   \n",
       "1          608     Spain  Female   41     1.0   83807.86              1   \n",
       "2          502    France  Female   42     8.0  159660.80              3   \n",
       "3          699    France  Female   39     1.0       0.00              2   \n",
       "4          850     Spain  Female   43     2.0  125510.82              1   \n",
       "\n",
       "   HasCrCard  IsActiveMember  EstimatedSalary  Exited  \n",
       "0          1               1        101348.88       1  \n",
       "1          0               1        112542.58       0  \n",
       "2          1               0        113931.57       1  \n",
       "3          0               0         93826.63       0  \n",
       "4          1               1         79084.10       0  "
      ]
     },
     "execution_count": 14,
     "metadata": {},
     "output_type": "execute_result"
    }
   ],
   "source": [
    "df = df.drop(['CustomerId', 'RowNumber', 'Surname'], axis=1)\n",
    "df.head()"
   ]
  },
  {
   "cell_type": "code",
   "execution_count": 15,
   "metadata": {},
   "outputs": [
    {
     "data": {
      "text/html": [
       "<div>\n",
       "<style scoped>\n",
       "    .dataframe tbody tr th:only-of-type {\n",
       "        vertical-align: middle;\n",
       "    }\n",
       "\n",
       "    .dataframe tbody tr th {\n",
       "        vertical-align: top;\n",
       "    }\n",
       "\n",
       "    .dataframe thead th {\n",
       "        text-align: right;\n",
       "    }\n",
       "</style>\n",
       "<table border=\"1\" class=\"dataframe\">\n",
       "  <thead>\n",
       "    <tr style=\"text-align: right;\">\n",
       "      <th></th>\n",
       "      <th>CreditScore</th>\n",
       "      <th>Age</th>\n",
       "      <th>Tenure</th>\n",
       "      <th>Balance</th>\n",
       "      <th>NumOfProducts</th>\n",
       "      <th>HasCrCard</th>\n",
       "      <th>IsActiveMember</th>\n",
       "      <th>EstimatedSalary</th>\n",
       "      <th>Exited</th>\n",
       "      <th>Geography_Germany</th>\n",
       "      <th>Geography_Spain</th>\n",
       "      <th>Gender_Male</th>\n",
       "    </tr>\n",
       "  </thead>\n",
       "  <tbody>\n",
       "    <tr>\n",
       "      <td>0</td>\n",
       "      <td>619</td>\n",
       "      <td>42</td>\n",
       "      <td>2.0</td>\n",
       "      <td>0.00</td>\n",
       "      <td>1</td>\n",
       "      <td>1</td>\n",
       "      <td>1</td>\n",
       "      <td>101348.88</td>\n",
       "      <td>1</td>\n",
       "      <td>0</td>\n",
       "      <td>0</td>\n",
       "      <td>0</td>\n",
       "    </tr>\n",
       "    <tr>\n",
       "      <td>1</td>\n",
       "      <td>608</td>\n",
       "      <td>41</td>\n",
       "      <td>1.0</td>\n",
       "      <td>83807.86</td>\n",
       "      <td>1</td>\n",
       "      <td>0</td>\n",
       "      <td>1</td>\n",
       "      <td>112542.58</td>\n",
       "      <td>0</td>\n",
       "      <td>0</td>\n",
       "      <td>1</td>\n",
       "      <td>0</td>\n",
       "    </tr>\n",
       "    <tr>\n",
       "      <td>2</td>\n",
       "      <td>502</td>\n",
       "      <td>42</td>\n",
       "      <td>8.0</td>\n",
       "      <td>159660.80</td>\n",
       "      <td>3</td>\n",
       "      <td>1</td>\n",
       "      <td>0</td>\n",
       "      <td>113931.57</td>\n",
       "      <td>1</td>\n",
       "      <td>0</td>\n",
       "      <td>0</td>\n",
       "      <td>0</td>\n",
       "    </tr>\n",
       "    <tr>\n",
       "      <td>3</td>\n",
       "      <td>699</td>\n",
       "      <td>39</td>\n",
       "      <td>1.0</td>\n",
       "      <td>0.00</td>\n",
       "      <td>2</td>\n",
       "      <td>0</td>\n",
       "      <td>0</td>\n",
       "      <td>93826.63</td>\n",
       "      <td>0</td>\n",
       "      <td>0</td>\n",
       "      <td>0</td>\n",
       "      <td>0</td>\n",
       "    </tr>\n",
       "    <tr>\n",
       "      <td>4</td>\n",
       "      <td>850</td>\n",
       "      <td>43</td>\n",
       "      <td>2.0</td>\n",
       "      <td>125510.82</td>\n",
       "      <td>1</td>\n",
       "      <td>1</td>\n",
       "      <td>1</td>\n",
       "      <td>79084.10</td>\n",
       "      <td>0</td>\n",
       "      <td>0</td>\n",
       "      <td>1</td>\n",
       "      <td>0</td>\n",
       "    </tr>\n",
       "  </tbody>\n",
       "</table>\n",
       "</div>"
      ],
      "text/plain": [
       "   CreditScore  Age  Tenure    Balance  NumOfProducts  HasCrCard  \\\n",
       "0          619   42     2.0       0.00              1          1   \n",
       "1          608   41     1.0   83807.86              1          0   \n",
       "2          502   42     8.0  159660.80              3          1   \n",
       "3          699   39     1.0       0.00              2          0   \n",
       "4          850   43     2.0  125510.82              1          1   \n",
       "\n",
       "   IsActiveMember  EstimatedSalary  Exited  Geography_Germany  \\\n",
       "0               1        101348.88       1                  0   \n",
       "1               1        112542.58       0                  0   \n",
       "2               0        113931.57       1                  0   \n",
       "3               0         93826.63       0                  0   \n",
       "4               1         79084.10       0                  0   \n",
       "\n",
       "   Geography_Spain  Gender_Male  \n",
       "0                0            0  \n",
       "1                1            0  \n",
       "2                0            0  \n",
       "3                0            0  \n",
       "4                1            0  "
      ]
     },
     "execution_count": 15,
     "metadata": {},
     "output_type": "execute_result"
    }
   ],
   "source": [
    "df = pd.get_dummies(df, drop_first = True)\n",
    "df.head()"
   ]
  },
  {
   "cell_type": "markdown",
   "metadata": {},
   "source": [
    "### Conclusion\n",
    "We replaced missing values of `Tenure` column with random numbers selecting from existing values (0 to 10), we using One-Hot encoding for the categorical features.  "
   ]
  },
  {
   "cell_type": "markdown",
   "metadata": {},
   "source": [
    "## Machine Learning Models"
   ]
  },
  {
   "cell_type": "markdown",
   "metadata": {},
   "source": [
    "### Splitting the data"
   ]
  },
  {
   "cell_type": "code",
   "execution_count": 16,
   "metadata": {},
   "outputs": [
    {
     "name": "stdout",
     "output_type": "stream",
     "text": [
      "Training features: (6000, 11)\n",
      "Validation features: (2000, 11)\n",
      "Testing features: (2000,)\n"
     ]
    }
   ],
   "source": [
    "X = df.drop(['Exited'], axis=1)\n",
    "y = df['Exited']\n",
    "\n",
    "\n",
    "X_train, X_valid, y_train, y_valid = train_test_split(X, y, train_size = 0.6, test_size = 0.4, random_state = 12345)\n",
    "X_test, X_valid, y_test, y_valid = train_test_split(X_valid, y_valid, test_size = 0.5, random_state = 12345)\n",
    "\n",
    "print('Training features:', X_train.shape)\n",
    "print('Validation features:', X_valid.shape)\n",
    "print('Testing features:', y_test.shape)"
   ]
  },
  {
   "cell_type": "markdown",
   "metadata": {},
   "source": [
    "### Checking balance of class"
   ]
  },
  {
   "cell_type": "code",
   "execution_count": 17,
   "metadata": {
    "scrolled": true
   },
   "outputs": [
    {
     "data": {
      "image/png": "[encoded data removed]",
      "text/plain": [
       "<Figure size 432x288 with 1 Axes>"
      ]
     },
     "metadata": {
      "needs_background": "light"
     },
     "output_type": "display_data"
    }
   ],
   "source": [
    "sns.countplot(df['Exited'])\n",
    "plt.show()"
   ]
  },
  {
   "cell_type": "markdown",
   "metadata": {},
   "source": [
    "We can conclude that the class is imbalanced, we are going to train the model without taking the imbalance into consideration."
   ]
  },
  {
   "cell_type": "markdown",
   "metadata": {},
   "source": [
    "### Logistic Regression "
   ]
  },
  {
   "cell_type": "code",
   "execution_count": 18,
   "metadata": {},
   "outputs": [
    {
     "name": "stdout",
     "output_type": "stream",
     "text": [
      "Accuracy score is 0.788\n",
      "F1 score is 0.134\n"
     ]
    }
   ],
   "source": [
    "LR_model = LogisticRegression(random_state = 12345, solver = 'liblinear')\n",
    "LR_model.fit(X_train, y_train)\n",
    "\n",
    "\n",
    "predictions_valid = LR_model.predict(X_valid)\n",
    "valid_score = accuracy_score(y_valid, predictions_valid)\n",
    "\n",
    "print('Accuracy score is', valid_score.round(3))\n",
    "print('F1 score is', f1_score(y_valid, predictions_valid).round(3))"
   ]
  },
  {
   "cell_type": "markdown",
   "metadata": {},
   "source": [
    "The accuracy score for the validation set is 0.791, and the F1 score for the validation set is 0.043. "
   ]
  },
  {
   "cell_type": "markdown",
   "metadata": {},
   "source": [
    "### Random Forest Classifier"
   ]
  },
  {
   "cell_type": "code",
   "execution_count": 19,
   "metadata": {},
   "outputs": [
    {
     "name": "stdout",
     "output_type": "stream",
     "text": [
      "n_estimator = 10  F1 Score: 0.521  Validation Accuracy 0.839\n",
      "n_estimator = 15  F1 Score: 0.545  Validation Accuracy 0.842\n",
      "n_estimator = 20  F1 Score: 0.527  Validation Accuracy 0.84\n",
      "n_estimator = 25  F1 Score: 0.539  Validation Accuracy 0.842\n",
      "n_estimator = 30  F1 Score: 0.535  Validation Accuracy 0.845\n",
      "n_estimator = 35  F1 Score: 0.544  Validation Accuracy 0.846\n",
      "n_estimator = 40  F1 Score: 0.542  Validation Accuracy 0.846\n",
      "n_estimator = 45  F1 Score: 0.55  Validation Accuracy 0.848\n",
      "n_estimator = 50  F1 Score: 0.54  Validation Accuracy 0.846\n",
      "n_estimator = 55  F1 Score: 0.551  Validation Accuracy 0.848\n",
      "n_estimator = 60  F1 Score: 0.545  Validation Accuracy 0.848\n",
      "n_estimator = 65  F1 Score: 0.553  Validation Accuracy 0.849\n",
      "n_estimator = 70  F1 Score: 0.559  Validation Accuracy 0.851\n",
      "n_estimator = 75  F1 Score: 0.556  Validation Accuracy 0.85\n",
      "n_estimator = 80  F1 Score: 0.55  Validation Accuracy 0.85\n",
      "n_estimator = 85  F1 Score: 0.552  Validation Accuracy 0.848\n",
      "n_estimator = 90  F1 Score: 0.55  Validation Accuracy 0.85\n",
      "n_estimator = 95  F1 Score: 0.549  Validation Accuracy 0.848\n",
      "n_estimator = 100  F1 Score: 0.535  Validation Accuracy 0.845\n"
     ]
    }
   ],
   "source": [
    "estimator_list = [i for i in range(10, 101, 5)]\n",
    "RFC_accuracy = [] # Log validation accuracy scores for the model\n",
    "F1_Score = [] \n",
    "\n",
    "for estimator in estimator_list:\n",
    "        model = RandomForestClassifier(random_state=12345,  n_estimators = estimator)\n",
    "        model.fit(X_train, y_train)\n",
    "        predictions_valid = model.predict(X_valid)\n",
    "        \n",
    "        valid_score = accuracy_score(y_valid, predictions_valid)\n",
    "        RFC_accuracy.append(valid_score)\n",
    "        f1score = f1_score(y_valid, predictions_valid)  \n",
    "        F1_Score.append(f1score)\n",
    "\n",
    "        print(\"n_estimator =\", estimator, \" \", end = '')\n",
    "        print('F1 Score:', f1score.round(3), \" \", end = '')\n",
    "        print('Validation Accuracy', valid_score.round(3))"
   ]
  },
  {
   "cell_type": "code",
   "execution_count": 20,
   "metadata": {
    "scrolled": true
   },
   "outputs": [
    {
     "data": {
      "image/png": "[encoded data removed]",
      "text/plain": [
       "<Figure size 720x360 with 1 Axes>"
      ]
     },
     "metadata": {
      "needs_background": "light"
     },
     "output_type": "display_data"
    }
   ],
   "source": [
    "plt.figure(figsize=(10,5))\n",
    "plt.plot(estimator_list, RFC_accuracy, '-o', label = 'Validation Accuracy Scores', alpha = 0.5)\n",
    "plt.title('Plot of train and validation scores vs estimators')\n",
    "plt.xlabel('Estimator')\n",
    "plt.ylabel('Accuracy')\n",
    "plt.legend()\n",
    "plt.show()"
   ]
  },
  {
   "cell_type": "code",
   "execution_count": 21,
   "metadata": {
    "scrolled": true
   },
   "outputs": [
    {
     "data": {
      "image/png": "[encoded data removed]",
      "text/plain": [
       "<Figure size 720x360 with 1 Axes>"
      ]
     },
     "metadata": {
      "needs_background": "light"
     },
     "output_type": "display_data"
    }
   ],
   "source": [
    "plt.figure(figsize=(10,5))\n",
    "plt.plot(estimator_list, F1_Score, '-*', label = 'F1 Scores', alpha = 0.5)\n",
    "plt.title('Plot of f1 scores vs estimators')\n",
    "plt.xlabel('Estimator')\n",
    "plt.ylabel('Accuracy')\n",
    "plt.legend()\n",
    "plt.show()"
   ]
  },
  {
   "cell_type": "markdown",
   "metadata": {},
   "source": [
    "The best random forest model is when estimators = 70, the accuracy score = 0.857 and F1 score = 0.567"
   ]
  },
  {
   "cell_type": "markdown",
   "metadata": {},
   "source": [
    "### Conclusion\n",
    "* We split the data with 60% training data and 20% validation data. \n",
    "* The logistic regression model has accuracy score for the validation set is 0.791, and the F1 score for the validation set is 0.043.\n",
    "* the best random forest model is when estimators = 70, the accuracy score = 0.857 and F1 score = 0.567"
   ]
  },
  {
   "cell_type": "markdown",
   "metadata": {},
   "source": [
    "## Improve Models Quality"
   ]
  },
  {
   "cell_type": "markdown",
   "metadata": {},
   "source": [
    "### Class weight adjustment"
   ]
  },
  {
   "cell_type": "markdown",
   "metadata": {},
   "source": [
    "#### Logistic regression"
   ]
  },
  {
   "cell_type": "code",
   "execution_count": 22,
   "metadata": {},
   "outputs": [
    {
     "name": "stdout",
     "output_type": "stream",
     "text": [
      "Accuracy score is 0.676\n",
      "F1 score is 0.467\n"
     ]
    }
   ],
   "source": [
    "LR_model = LogisticRegression(random_state = 12345, solver = 'liblinear', class_weight='balanced')\n",
    "LR_model.fit(X_train, y_train)\n",
    "\n",
    "\n",
    "predictions_valid = LR_model.predict(X_valid)\n",
    "valid_score = accuracy_score(y_valid, predictions_valid)\n",
    "\n",
    "print('Accuracy score is', valid_score.round(3))\n",
    "print('F1 score is', f1_score(y_valid, predictions_valid).round(3))"
   ]
  },
  {
   "cell_type": "markdown",
   "metadata": {},
   "source": [
    "The F1 score already improved. "
   ]
  },
  {
   "cell_type": "markdown",
   "metadata": {},
   "source": [
    "#### Random forest classifier"
   ]
  },
  {
   "cell_type": "code",
   "execution_count": 23,
   "metadata": {},
   "outputs": [
    {
     "name": "stdout",
     "output_type": "stream",
     "text": [
      "n_estimator = 50  Depth = 10  F1 Score: 0.591  Validation Accuracy 0.826\n",
      "n_estimator = 50  Depth = 11  F1 Score: 0.595  Validation Accuracy 0.839\n",
      "n_estimator = 50  Depth = 12  F1 Score: 0.584  Validation Accuracy 0.844\n",
      "n_estimator = 50  Depth = 13  F1 Score: 0.553  Validation Accuracy 0.839\n",
      "n_estimator = 50  Depth = 14  F1 Score: 0.565  Validation Accuracy 0.85\n",
      "n_estimator = 50  Depth = 15  F1 Score: 0.542  Validation Accuracy 0.843\n",
      "n_estimator = 50  Depth = 16  F1 Score: 0.535  Validation Accuracy 0.845\n",
      "n_estimator = 50  Depth = 17  F1 Score: 0.511  Validation Accuracy 0.84\n",
      "n_estimator = 50  Depth = 18  F1 Score: 0.511  Validation Accuracy 0.842\n",
      "n_estimator = 50  Depth = 19  F1 Score: 0.516  Validation Accuracy 0.842\n",
      "n_estimator = 60  Depth = 10  F1 Score: 0.597  Validation Accuracy 0.83\n",
      "n_estimator = 60  Depth = 11  F1 Score: 0.605  Validation Accuracy 0.843\n",
      "n_estimator = 60  Depth = 12  F1 Score: 0.598  Validation Accuracy 0.85\n",
      "n_estimator = 60  Depth = 13  F1 Score: 0.561  Validation Accuracy 0.843\n",
      "n_estimator = 60  Depth = 14  F1 Score: 0.566  Validation Accuracy 0.85\n",
      "n_estimator = 60  Depth = 15  F1 Score: 0.548  Validation Accuracy 0.845\n",
      "n_estimator = 60  Depth = 16  F1 Score: 0.535  Validation Accuracy 0.845\n",
      "n_estimator = 60  Depth = 17  F1 Score: 0.518  Validation Accuracy 0.842\n",
      "n_estimator = 60  Depth = 18  F1 Score: 0.512  Validation Accuracy 0.843\n",
      "n_estimator = 60  Depth = 19  F1 Score: 0.512  Validation Accuracy 0.842\n",
      "n_estimator = 70  Depth = 10  F1 Score: 0.6  Validation Accuracy 0.832\n",
      "n_estimator = 70  Depth = 11  F1 Score: 0.609  Validation Accuracy 0.845\n",
      "n_estimator = 70  Depth = 12  F1 Score: 0.595  Validation Accuracy 0.848\n",
      "n_estimator = 70  Depth = 13  F1 Score: 0.566  Validation Accuracy 0.843\n",
      "n_estimator = 70  Depth = 14  F1 Score: 0.569  Validation Accuracy 0.852\n",
      "n_estimator = 70  Depth = 15  F1 Score: 0.548  Validation Accuracy 0.845\n",
      "n_estimator = 70  Depth = 16  F1 Score: 0.523  Validation Accuracy 0.84\n",
      "n_estimator = 70  Depth = 17  F1 Score: 0.513  Validation Accuracy 0.84\n",
      "n_estimator = 70  Depth = 18  F1 Score: 0.51  Validation Accuracy 0.842\n",
      "n_estimator = 70  Depth = 19  F1 Score: 0.513  Validation Accuracy 0.842\n",
      "n_estimator = 80  Depth = 10  F1 Score: 0.607  Validation Accuracy 0.835\n",
      "n_estimator = 80  Depth = 11  F1 Score: 0.603  Validation Accuracy 0.843\n",
      "n_estimator = 80  Depth = 12  F1 Score: 0.585  Validation Accuracy 0.844\n",
      "n_estimator = 80  Depth = 13  F1 Score: 0.564  Validation Accuracy 0.843\n",
      "n_estimator = 80  Depth = 14  F1 Score: 0.569  Validation Accuracy 0.852\n",
      "n_estimator = 80  Depth = 15  F1 Score: 0.541  Validation Accuracy 0.843\n",
      "n_estimator = 80  Depth = 16  F1 Score: 0.526  Validation Accuracy 0.844\n",
      "n_estimator = 80  Depth = 17  F1 Score: 0.521  Validation Accuracy 0.844\n",
      "n_estimator = 80  Depth = 18  F1 Score: 0.513  Validation Accuracy 0.842\n",
      "n_estimator = 80  Depth = 19  F1 Score: 0.518  Validation Accuracy 0.843\n",
      "n_estimator = 90  Depth = 10  F1 Score: 0.603  Validation Accuracy 0.834\n",
      "n_estimator = 90  Depth = 11  F1 Score: 0.607  Validation Accuracy 0.845\n",
      "n_estimator = 90  Depth = 12  F1 Score: 0.587  Validation Accuracy 0.844\n",
      "n_estimator = 90  Depth = 13  F1 Score: 0.563  Validation Accuracy 0.843\n",
      "n_estimator = 90  Depth = 14  F1 Score: 0.567  Validation Accuracy 0.851\n",
      "n_estimator = 90  Depth = 15  F1 Score: 0.547  Validation Accuracy 0.846\n",
      "n_estimator = 90  Depth = 16  F1 Score: 0.531  Validation Accuracy 0.846\n",
      "n_estimator = 90  Depth = 17  F1 Score: 0.522  Validation Accuracy 0.844\n",
      "n_estimator = 90  Depth = 18  F1 Score: 0.519  Validation Accuracy 0.844\n",
      "n_estimator = 90  Depth = 19  F1 Score: 0.512  Validation Accuracy 0.842\n",
      "n_estimator = 100  Depth = 10  F1 Score: 0.599  Validation Accuracy 0.832\n",
      "n_estimator = 100  Depth = 11  F1 Score: 0.604  Validation Accuracy 0.844\n",
      "n_estimator = 100  Depth = 12  F1 Score: 0.59  Validation Accuracy 0.846\n",
      "n_estimator = 100  Depth = 13  F1 Score: 0.563  Validation Accuracy 0.843\n",
      "n_estimator = 100  Depth = 14  F1 Score: 0.567  Validation Accuracy 0.85\n",
      "n_estimator = 100  Depth = 15  F1 Score: 0.545  Validation Accuracy 0.846\n",
      "n_estimator = 100  Depth = 16  F1 Score: 0.526  Validation Accuracy 0.844\n",
      "n_estimator = 100  Depth = 17  F1 Score: 0.513  Validation Accuracy 0.84\n",
      "n_estimator = 100  Depth = 18  F1 Score: 0.519  Validation Accuracy 0.844\n",
      "n_estimator = 100  Depth = 19  F1 Score: 0.511  Validation Accuracy 0.841\n"
     ]
    }
   ],
   "source": [
    "estimator_list = [i for i in range(50, 101, 10)]\n",
    "depth_list = [i for i in range(10, 20)]\n",
    "RFC_accuracy = [] # Log validation accuracy scores for the model\n",
    "F1_Score = [] \n",
    "\n",
    "for estimator in estimator_list:\n",
    "    for depth in depth_list:\n",
    "        model = RandomForestClassifier(random_state=12345,  n_estimators = estimator, max_depth = depth, class_weight='balanced')\n",
    "        model.fit(X_train, y_train)\n",
    "        predictions_valid = model.predict(X_valid)\n",
    "        \n",
    "        valid_score = accuracy_score(y_valid, predictions_valid)\n",
    "        RFC_accuracy.append(valid_score)\n",
    "        f1score = f1_score(y_valid, predictions_valid)  \n",
    "        F1_Score.append(f1score)\n",
    "\n",
    "        print(\"n_estimator =\", estimator, \" \", end = '')\n",
    "        print(\"Depth =\", depth, \" \", end = '')\n",
    "        print('F1 Score:', f1score.round(3), \" \", end = '')\n",
    "        print('Validation Accuracy', valid_score.round(3))"
   ]
  },
  {
   "cell_type": "markdown",
   "metadata": {},
   "source": [
    "The random forest model with balanced class weight, and n_estimator = 60, Depth = 11, F1 Score: 0.611  Validation Accuracy 0.845. Already improved! \n"
   ]
  },
  {
   "cell_type": "markdown",
   "metadata": {},
   "source": [
    "### Upsampling"
   ]
  },
  {
   "cell_type": "markdown",
   "metadata": {},
   "source": [
    "Duplicate the positive observations several times."
   ]
  },
  {
   "cell_type": "code",
   "execution_count": 24,
   "metadata": {},
   "outputs": [],
   "source": [
    "# function to perform upsampling \n",
    "def upsample(features, target, repeat):\n",
    "    X_zeros = X[y == 0]\n",
    "    X_ones = X[y == 1]\n",
    "    y_zeros = y[y == 0]\n",
    "    y_ones = y[y == 1]\n",
    "    X_upsampled = pd.concat([X_zeros] + [X_ones] * repeat)\n",
    "    y_upsampled = pd.concat([y_zeros] + [y_ones] * repeat)\n",
    "    \n",
    "    X_upsampled, y_upsampled = shuffle(X_upsampled, y_upsampled, random_state=12345)\n",
    "    \n",
    "    return X_upsampled, y_upsampled"
   ]
  },
  {
   "cell_type": "markdown",
   "metadata": {},
   "source": [
    "#### Logistic regression"
   ]
  },
  {
   "cell_type": "code",
   "execution_count": 25,
   "metadata": {},
   "outputs": [
    {
     "name": "stdout",
     "output_type": "stream",
     "text": [
      "Repeats: 1 F1: 0.152\n",
      "Repeats: 2 F1: 0.33\n",
      "Repeats: 3 F1: 0.419\n",
      "Repeats: 4 F1: 0.433\n",
      "Repeats: 5 F1: 0.418\n",
      "Repeats: 6 F1: 0.409\n",
      "Repeats: 7 F1: 0.396\n",
      "Repeats: 8 F1: 0.371\n",
      "Repeats: 9 F1: 0.38\n",
      "Repeats: 10 F1: 0.357\n",
      "Repeats: 11 F1: 0.366\n",
      "Repeats: 12 F1: 0.354\n",
      "Repeats: 13 F1: 0.359\n",
      "Repeats: 14 F1: 0.357\n",
      "Repeats: 15 F1: 0.354\n"
     ]
    }
   ],
   "source": [
    "repeat_list = []\n",
    "for repeat in range(1, 16):\n",
    "    X_upsampled, y_upsampled = upsample(X_train, y_train, repeat)\n",
    "    model = LogisticRegression(random_state = 12345, solver='liblinear')\n",
    "    model.fit(X_upsampled, y_upsampled)\n",
    "    predictions_valid = model.predict(X_valid)\n",
    "    print(\"Repeats:\", repeat, end = ' ')\n",
    "    print('F1:', f1_score(y_valid, predictions_valid).round(3))"
   ]
  },
  {
   "cell_type": "markdown",
   "metadata": {},
   "source": [
    "The best upsampling of logistic regression is when repeats = 4, F1 score = 0.454. Unfortunately, It doesn't improve the F1 score. "
   ]
  },
  {
   "cell_type": "markdown",
   "metadata": {},
   "source": [
    "#### Random forest classifier"
   ]
  },
  {
   "cell_type": "code",
   "execution_count": 26,
   "metadata": {},
   "outputs": [
    {
     "name": "stdout",
     "output_type": "stream",
     "text": [
      "Repeats: 1 F1: 0.823\n",
      "Repeats: 2 F1: 0.82\n",
      "Repeats: 3 F1: 0.81\n",
      "Repeats: 4 F1: 0.83\n",
      "Repeats: 5 F1: 0.816\n",
      "Repeats: 6 F1: 0.818\n",
      "Repeats: 7 F1: 0.811\n",
      "Repeats: 8 F1: 0.817\n",
      "Repeats: 9 F1: 0.814\n",
      "Repeats: 10 F1: 0.823\n",
      "Repeats: 11 F1: 0.82\n",
      "Repeats: 12 F1: 0.813\n",
      "Repeats: 13 F1: 0.818\n",
      "Repeats: 14 F1: 0.815\n",
      "Repeats: 15 F1: 0.818\n"
     ]
    }
   ],
   "source": [
    "for repeat in range(1, 16):   \n",
    "    X_upsampled, y_upsampled = upsample(X_train, y_train, repeat)\n",
    "    model = RandomForestClassifier(random_state=12345,  n_estimators = 60, max_depth = 11, class_weight='balanced')\n",
    "    model.fit(X_upsampled, y_upsampled)\n",
    "    predictions_valid = model.predict(X_valid)\n",
    "\n",
    "    print(\"Repeats:\", repeat, end = ' ')\n",
    "    print('F1:', f1_score(y_valid, predictions_valid).round(3))"
   ]
  },
  {
   "cell_type": "markdown",
   "metadata": {},
   "source": [
    "The best upsampling of random forest classifier is when repeats = 2, F1 score = 0.826. It improves the F1 score."
   ]
  },
  {
   "cell_type": "markdown",
   "metadata": {},
   "source": [
    "#### Conclusion\n",
    "\n",
    "By using upsampling to duplicate the positive observations several times, our F1 score doesn't improve much, let's try downsampling to randomly drop a portion of the negative observations. "
   ]
  },
  {
   "cell_type": "markdown",
   "metadata": {},
   "source": [
    "### Downsampling"
   ]
  },
  {
   "cell_type": "code",
   "execution_count": 27,
   "metadata": {},
   "outputs": [],
   "source": [
    "def downsampling(X, y, fraction):\n",
    "    X_zeros = X[y == 0]\n",
    "    X_ones = X[y == 1]\n",
    "    y_zeros = y[y == 0]\n",
    "    y_ones = y[y == 1]\n",
    "\n",
    "    X_downsampled = pd.concat([X_zeros.sample(frac=fraction, random_state=12345)] + [X_ones])\n",
    "    y_downsampled = pd.concat([y_zeros.sample(frac=fraction, random_state=12345)] + [y_ones])\n",
    "    \n",
    "    X_downsampled, y_downsampled = shuffle(X_downsampled, y_downsampled, random_state=12345)\n",
    "    \n",
    "    return X_downsampled, y_downsampled"
   ]
  },
  {
   "cell_type": "markdown",
   "metadata": {},
   "source": [
    "#### Logistic regression"
   ]
  },
  {
   "cell_type": "code",
   "execution_count": 28,
   "metadata": {},
   "outputs": [
    {
     "name": "stdout",
     "output_type": "stream",
     "text": [
      "Fraction: 0.01 F1: 0.349\n",
      "Fraction: 0.03 F1: 0.35\n",
      "Fraction: 0.049999999999999996 F1: 0.354\n",
      "Fraction: 0.06999999999999999 F1: 0.352\n",
      "Fraction: 0.08999999999999998 F1: 0.37\n",
      "Fraction: 0.10999999999999997 F1: 0.387\n",
      "Fraction: 0.12999999999999998 F1: 0.395\n",
      "Fraction: 0.15 F1: 0.407\n",
      "Fraction: 0.16999999999999998 F1: 0.406\n",
      "Fraction: 0.18999999999999997 F1: 0.412\n",
      "Fraction: 0.20999999999999996 F1: 0.414\n",
      "Fraction: 0.22999999999999998 F1: 0.428\n",
      "Fraction: 0.24999999999999997 F1: 0.423\n",
      "Fraction: 0.26999999999999996 F1: 0.427\n",
      "Fraction: 0.29 F1: 0.462\n",
      "Fraction: 0.30999999999999994 F1: 0.455\n",
      "Fraction: 0.32999999999999996 F1: 0.41\n",
      "Fraction: 0.35 F1: 0.406\n",
      "Fraction: 0.36999999999999994 F1: 0.393\n",
      "Fraction: 0.38999999999999996 F1: 0.392\n"
     ]
    }
   ],
   "source": [
    "for fraction in np.arange(0.01, 0.4, 0.02):\n",
    "    X_downsampled, y_downsampled = downsampling(X_train, y_train, fraction)\n",
    "    model = LogisticRegression(random_state = 12345, solver='liblinear')\n",
    "    model.fit(X_downsampled, y_downsampled)\n",
    "    predictions_valid = model.predict(X_valid)\n",
    "    print(\"Fraction:\", fraction, end = ' ')\n",
    "    print('F1:', f1_score(y_valid, predictions_valid).round(3))"
   ]
  },
  {
   "cell_type": "markdown",
   "metadata": {},
   "source": [
    "The best downsampling of logistic regression is when fraction = 0.27, F1 score = 0.45. Unfortunately, It doesn't improve the F1 score."
   ]
  },
  {
   "cell_type": "markdown",
   "metadata": {},
   "source": [
    "#### Random forest classifier"
   ]
  },
  {
   "cell_type": "code",
   "execution_count": 29,
   "metadata": {},
   "outputs": [
    {
     "name": "stdout",
     "output_type": "stream",
     "text": [
      "Fraction: 0.01 F1: 0.352\n",
      "Fraction: 0.03 F1: 0.391\n",
      "Fraction: 0.049999999999999996 F1: 0.444\n",
      "Fraction: 0.06999999999999999 F1: 0.479\n",
      "Fraction: 0.08999999999999998 F1: 0.507\n",
      "Fraction: 0.10999999999999997 F1: 0.521\n",
      "Fraction: 0.12999999999999998 F1: 0.522\n",
      "Fraction: 0.15 F1: 0.549\n",
      "Fraction: 0.16999999999999998 F1: 0.562\n",
      "Fraction: 0.18999999999999997 F1: 0.567\n",
      "Fraction: 0.20999999999999996 F1: 0.563\n",
      "Fraction: 0.22999999999999998 F1: 0.577\n",
      "Fraction: 0.24999999999999997 F1: 0.584\n",
      "Fraction: 0.26999999999999996 F1: 0.583\n",
      "Fraction: 0.29 F1: 0.592\n",
      "Fraction: 0.30999999999999994 F1: 0.584\n",
      "Fraction: 0.32999999999999996 F1: 0.601\n",
      "Fraction: 0.35 F1: 0.595\n",
      "Fraction: 0.36999999999999994 F1: 0.592\n",
      "Fraction: 0.38999999999999996 F1: 0.604\n"
     ]
    }
   ],
   "source": [
    "for fraction in np.arange(0.01, 0.4, 0.02):\n",
    "    X_downsampled, y_downsampled = downsampling(X_train, y_train, fraction)\n",
    "    model = RandomForestClassifier(random_state=12345,  n_estimators = 60, max_depth = 11, class_weight='balanced')\n",
    "    model.fit(X_downsampled, y_downsampled)\n",
    "    predictions_valid = model.predict(X_valid)\n",
    "\n",
    "    print(\"Fraction:\", fraction, end = ' ')\n",
    "    print('F1:', f1_score(y_valid, predictions_valid).round(3))"
   ]
  },
  {
   "cell_type": "markdown",
   "metadata": {},
   "source": [
    "The best downsampling of random forest classifier is when fraction = 0.37, F1 score = 0.612. Unfortunately, It doesn't improve the F1 score."
   ]
  },
  {
   "cell_type": "markdown",
   "metadata": {},
   "source": [
    "### Conclusion"
   ]
  },
  {
   "cell_type": "markdown",
   "metadata": {},
   "source": [
    "* For class weight adjustment, we added class weight to improve the model quality. \n",
    "* The best F1 score was achieved by the random forest model with balanced class weight, and n_estimator = 60, Depth = 11, F1 Score: 0.611, and Validation Accuracy 0.845.\n",
    "* The best upsampling was random forest classifier is when repeats = 2, F1 score = 0.826. \n",
    "* The best downsampling was random forest classifier is when fraction = 0.37, F1 score = 0.612. "
   ]
  },
  {
   "cell_type": "markdown",
   "metadata": {},
   "source": [
    "## Perform Final Testing"
   ]
  },
  {
   "cell_type": "code",
   "execution_count": 30,
   "metadata": {},
   "outputs": [
    {
     "name": "stdout",
     "output_type": "stream",
     "text": [
      "F1 Score: 0.605  Validation Accuracy 0.843\n"
     ]
    }
   ],
   "source": [
    "model = RandomForestClassifier(random_state=12345,  n_estimators = 60, max_depth = 11, class_weight='balanced')\n",
    "model.fit(X_train, y_train)\n",
    "predictions_valid = model.predict(X_valid)\n",
    "\n",
    "valid_score = accuracy_score(y_valid, predictions_valid)\n",
    "f1score = f1_score(y_valid, predictions_valid)  \n",
    "\n",
    "print('F1 Score:', f1score.round(3), \" \", end = '')\n",
    "print('Validation Accuracy', valid_score.round(3))"
   ]
  },
  {
   "cell_type": "markdown",
   "metadata": {},
   "source": [
    "### ROC Curve"
   ]
  },
  {
   "cell_type": "code",
   "execution_count": 31,
   "metadata": {},
   "outputs": [],
   "source": [
    "probabilities_valid = model.predict_proba(X_valid)\n",
    "probabilities_one_valid = probabilities_valid[:, 1]\n",
    "fpr, tpr, thresholds = roc_curve(y_valid, probabilities_one_valid)"
   ]
  },
  {
   "cell_type": "code",
   "execution_count": 32,
   "metadata": {},
   "outputs": [
    {
     "data": {
      "image/png": "[encoded data removed]",
      "text/plain": [
       "<Figure size 432x288 with 1 Axes>"
      ]
     },
     "metadata": {
      "needs_background": "light"
     },
     "output_type": "display_data"
    }
   ],
   "source": [
    "plt.figure()\n",
    "plt.plot([0, 1], [0, 1], linestyle='--')\n",
    "plt.plot(fpr, tpr)\n",
    "plt.xlim([0.0, 1.0])\n",
    "plt.ylim([0.0, 1.0])\n",
    "plt.xlabel('False Positive Rate')\n",
    "plt.ylabel('True Positive Rate')\n",
    "plt.title('ROC curve')\n",
    "plt.show()"
   ]
  },
  {
   "cell_type": "markdown",
   "metadata": {},
   "source": [
    "### AUC - ROC Values"
   ]
  },
  {
   "cell_type": "code",
   "execution_count": 33,
   "metadata": {},
   "outputs": [
    {
     "name": "stdout",
     "output_type": "stream",
     "text": [
      "AUC - ROC value is 0.852\n"
     ]
    }
   ],
   "source": [
    "print('AUC - ROC value is', roc_auc_score(y_valid, probabilities_one_valid).round(3))"
   ]
  },
  {
   "cell_type": "markdown",
   "metadata": {},
   "source": [
    "### Conclusion\n",
    "* For the final testing, we used random forest classifier with n_estimators = 60, max_depth = 11. \n",
    "* AUC - ROC value for the validation set is 0.855."
   ]
  },
  {
   "cell_type": "markdown",
   "metadata": {},
   "source": [
    "## Overall Conclusion"
   ]
  },
  {
   "cell_type": "markdown",
   "metadata": {},
   "source": [
    "* We detected missing values values of `Tenure` column with random numbers selecting from existing values (0 to 10) and we used One-Hot encoding for the categorical features.\n",
    "* We splitted the data with 60% training data and 20% validation data.\n",
    "* We used logistic regression model and random forest model. \n",
    "    * For the logistic regression, the Accuracy score is 0.791 and F1 score is 0.043, which doesn't match our expactation.\n",
    "    * For the random forest classifier, the The best model is when estimators = 70, the accuracy score = 0.857 and F1 score = 0.567. We can improve our model. \n",
    "* In order to improve our model quality, we first used class weight adjustment by adding class weight = balanced in to our models. The F1 score for logistic regression is 0.48 and Accuracy score is 0.682; for random forest classifier is 0.611 and Validation Accuracy 0.845 when n_estimator = 60, Depth = 11. We can see F1 scores alrady improved. \n",
    "* Then we used **upsampling** and **downsampling** to do further improvment of our models. \n",
    "    * In upsampling, the F1 score for logistic regression is when repeats = 4, F1 score = 0.454; for random forest classifier is when repeats = 2, F1 score = 0.826. The logistic regression model didn't improved but random forest model has been improved a lot. \n",
    "    * In downsampling, the F1 score for logistic regression is when fraction = 0.27, F1 score = 0.45; for random forest classifier is when fraction = 0.37, F1 score = 0.612. Unfortunately, downsampling doesn't improve the F1 score for both models. \n",
    "* Then we did final testing using **random forest classifier**, because this model has F1 Score =  0.591 and accuracy score = 0.838. The AUC - ROC value for the validation set is 0.855. The random forest model really helped the business predict whether customers will churn or not."
   ]
  },
  {
   "cell_type": "code",
   "execution_count": null,
   "metadata": {},
   "outputs": [],
   "source": []
  }
 ],
 "metadata": {
  "ExecuteTimeLog": [
   {
    "duration": 1135,
    "start_time": "2021-09-07T19:39:40.401Z"
   },
   {
    "duration": 38,
    "start_time": "2021-09-07T19:40:32.972Z"
   },
   {
    "duration": 18,
    "start_time": "2021-09-07T19:43:35.365Z"
   },
   {
    "duration": 16,
    "start_time": "2021-09-07T19:43:44.681Z"
   },
   {
    "duration": 10,
    "start_time": "2021-09-07T19:43:53.855Z"
   },
   {
    "duration": 42,
    "start_time": "2021-09-07T19:44:23.518Z"
   },
   {
    "duration": 4,
    "start_time": "2021-09-07T19:44:53.986Z"
   },
   {
    "duration": 7,
    "start_time": "2021-09-07T19:45:18.650Z"
   },
   {
    "duration": 4,
    "start_time": "2021-09-07T19:46:07.835Z"
   },
   {
    "duration": 12,
    "start_time": "2021-09-07T19:50:42.540Z"
   },
   {
    "duration": 8,
    "start_time": "2021-09-07T19:53:18.442Z"
   },
   {
    "duration": 4,
    "start_time": "2021-09-07T19:54:40.899Z"
   },
   {
    "duration": 5,
    "start_time": "2021-09-07T19:54:46.144Z"
   },
   {
    "duration": 5,
    "start_time": "2021-09-07T19:55:14.588Z"
   },
   {
    "duration": 9,
    "start_time": "2021-09-07T19:56:00.234Z"
   },
   {
    "duration": 9,
    "start_time": "2021-09-07T19:56:14.773Z"
   },
   {
    "duration": 7,
    "start_time": "2021-09-07T19:56:24.255Z"
   },
   {
    "duration": 12,
    "start_time": "2021-09-07T20:03:06.567Z"
   },
   {
    "duration": 20,
    "start_time": "2021-09-07T20:03:40.978Z"
   },
   {
    "duration": 9,
    "start_time": "2021-09-07T20:21:36.524Z"
   },
   {
    "duration": 9,
    "start_time": "2021-09-07T20:23:18.380Z"
   },
   {
    "duration": 9,
    "start_time": "2021-09-07T20:24:57.397Z"
   },
   {
    "duration": 121,
    "start_time": "2021-09-07T20:26:26.180Z"
   },
   {
    "duration": 1133,
    "start_time": "2021-09-07T20:37:46.902Z"
   },
   {
    "duration": 30,
    "start_time": "2021-09-07T20:37:48.037Z"
   },
   {
    "duration": 14,
    "start_time": "2021-09-07T20:37:48.070Z"
   },
   {
    "duration": 10,
    "start_time": "2021-09-07T20:37:48.086Z"
   },
   {
    "duration": 9,
    "start_time": "2021-09-07T20:37:48.098Z"
   },
   {
    "duration": 52,
    "start_time": "2021-09-07T20:37:48.109Z"
   },
   {
    "duration": 3,
    "start_time": "2021-09-07T20:37:48.163Z"
   },
   {
    "duration": 7,
    "start_time": "2021-09-07T20:37:48.169Z"
   },
   {
    "duration": 7,
    "start_time": "2021-09-07T20:37:48.178Z"
   },
   {
    "duration": 13,
    "start_time": "2021-09-07T20:37:48.186Z"
   },
   {
    "duration": 8,
    "start_time": "2021-09-07T20:37:48.200Z"
   },
   {
    "duration": 34,
    "start_time": "2021-09-07T20:37:48.209Z"
   },
   {
    "duration": 13,
    "start_time": "2021-09-07T20:37:48.244Z"
   },
   {
    "duration": 11,
    "start_time": "2021-09-07T20:37:48.258Z"
   },
   {
    "duration": 19,
    "start_time": "2021-09-07T20:37:48.271Z"
   },
   {
    "duration": 10,
    "start_time": "2021-09-07T20:37:48.292Z"
   },
   {
    "duration": 149,
    "start_time": "2021-09-07T20:37:48.304Z"
   },
   {
    "duration": 347,
    "start_time": "2021-09-07T20:55:20.772Z"
   },
   {
    "duration": 252,
    "start_time": "2021-09-07T20:59:07.457Z"
   },
   {
    "duration": 315,
    "start_time": "2021-09-07T21:01:23.210Z"
   },
   {
    "duration": 261,
    "start_time": "2021-09-07T21:01:49.161Z"
   },
   {
    "duration": 9,
    "start_time": "2021-09-07T21:05:34.314Z"
   },
   {
    "duration": 111,
    "start_time": "2021-09-07T21:05:36.582Z"
   },
   {
    "duration": 31,
    "start_time": "2021-09-07T21:05:42.771Z"
   },
   {
    "duration": 297,
    "start_time": "2021-09-07T21:05:48.905Z"
   },
   {
    "duration": 35,
    "start_time": "2021-09-07T21:05:58.479Z"
   },
   {
    "duration": 387,
    "start_time": "2021-09-07T21:07:17.331Z"
   },
   {
    "duration": 48,
    "start_time": "2021-09-07T21:07:24.433Z"
   },
   {
    "duration": 46,
    "start_time": "2021-09-07T21:08:42.021Z"
   },
   {
    "duration": 41,
    "start_time": "2021-09-07T21:08:47.331Z"
   },
   {
    "duration": 1639,
    "start_time": "2021-09-08T23:05:17.270Z"
   },
   {
    "duration": 36,
    "start_time": "2021-09-08T23:05:18.912Z"
   },
   {
    "duration": 27,
    "start_time": "2021-09-08T23:05:18.951Z"
   },
   {
    "duration": 19,
    "start_time": "2021-09-08T23:05:18.981Z"
   },
   {
    "duration": 14,
    "start_time": "2021-09-08T23:05:19.002Z"
   },
   {
    "duration": 93,
    "start_time": "2021-09-08T23:05:19.018Z"
   },
   {
    "duration": 4,
    "start_time": "2021-09-08T23:05:19.114Z"
   },
   {
    "duration": 10,
    "start_time": "2021-09-08T23:05:19.122Z"
   },
   {
    "duration": 35,
    "start_time": "2021-09-08T23:05:19.134Z"
   },
   {
    "duration": 16,
    "start_time": "2021-09-08T23:05:19.171Z"
   },
   {
    "duration": 11,
    "start_time": "2021-09-08T23:05:19.189Z"
   },
   {
    "duration": 6,
    "start_time": "2021-09-08T23:05:19.202Z"
   },
   {
    "duration": 12,
    "start_time": "2021-09-08T23:05:19.211Z"
   },
   {
    "duration": 60,
    "start_time": "2021-09-08T23:05:19.225Z"
   },
   {
    "duration": 41,
    "start_time": "2021-09-08T23:05:19.287Z"
   },
   {
    "duration": 43,
    "start_time": "2021-09-08T23:05:19.330Z"
   },
   {
    "duration": 220,
    "start_time": "2021-09-08T23:05:19.375Z"
   },
   {
    "duration": 170,
    "start_time": "2021-09-08T23:05:19.597Z"
   },
   {
    "duration": 713,
    "start_time": "2021-09-08T23:13:30.248Z"
   },
   {
    "duration": 408,
    "start_time": "2021-09-08T23:14:34.508Z"
   },
   {
    "duration": 12233,
    "start_time": "2021-09-08T23:15:05.986Z"
   },
   {
    "duration": 379,
    "start_time": "2021-09-08T23:15:44.942Z"
   },
   {
    "duration": 403,
    "start_time": "2021-09-08T23:16:37.975Z"
   },
   {
    "duration": 402,
    "start_time": "2021-09-08T23:17:52.758Z"
   },
   {
    "duration": 417,
    "start_time": "2021-09-08T23:17:58.534Z"
   },
   {
    "duration": 371,
    "start_time": "2021-09-08T23:19:22.079Z"
   },
   {
    "duration": 343,
    "start_time": "2021-09-08T23:19:28.689Z"
   },
   {
    "duration": 719,
    "start_time": "2021-09-08T23:20:09.794Z"
   },
   {
    "duration": 1575,
    "start_time": "2021-09-08T23:20:31.143Z"
   },
   {
    "duration": 37,
    "start_time": "2021-09-08T23:20:32.721Z"
   },
   {
    "duration": 23,
    "start_time": "2021-09-08T23:20:32.762Z"
   },
   {
    "duration": 19,
    "start_time": "2021-09-08T23:20:32.788Z"
   },
   {
    "duration": 17,
    "start_time": "2021-09-08T23:20:32.810Z"
   },
   {
    "duration": 90,
    "start_time": "2021-09-08T23:20:32.830Z"
   },
   {
    "duration": 4,
    "start_time": "2021-09-08T23:20:32.923Z"
   },
   {
    "duration": 11,
    "start_time": "2021-09-08T23:20:32.931Z"
   },
   {
    "duration": 27,
    "start_time": "2021-09-08T23:20:32.944Z"
   },
   {
    "duration": 22,
    "start_time": "2021-09-08T23:20:32.973Z"
   },
   {
    "duration": 12,
    "start_time": "2021-09-08T23:20:32.998Z"
   },
   {
    "duration": 6,
    "start_time": "2021-09-08T23:20:33.013Z"
   },
   {
    "duration": 49,
    "start_time": "2021-09-08T23:20:33.021Z"
   },
   {
    "duration": 20,
    "start_time": "2021-09-08T23:20:33.073Z"
   },
   {
    "duration": 36,
    "start_time": "2021-09-08T23:20:33.095Z"
   },
   {
    "duration": 46,
    "start_time": "2021-09-08T23:20:33.133Z"
   },
   {
    "duration": 235,
    "start_time": "2021-09-08T23:20:33.182Z"
   },
   {
    "duration": 152,
    "start_time": "2021-09-08T23:20:33.419Z"
   },
   {
    "duration": 12272,
    "start_time": "2021-09-08T23:20:33.574Z"
   },
   {
    "duration": 364,
    "start_time": "2021-09-08T23:21:48.159Z"
   },
   {
    "duration": 713,
    "start_time": "2021-09-08T23:22:01.211Z"
   },
   {
    "duration": 669,
    "start_time": "2021-09-08T23:22:12.421Z"
   },
   {
    "duration": 374,
    "start_time": "2021-09-08T23:22:19.887Z"
   },
   {
    "duration": 349,
    "start_time": "2021-09-08T23:23:47.650Z"
   },
   {
    "duration": 670,
    "start_time": "2021-09-08T23:23:51.572Z"
   },
   {
    "duration": 12302,
    "start_time": "2021-09-08T23:24:15.721Z"
   },
   {
    "duration": 312,
    "start_time": "2021-09-08T23:24:32.742Z"
   },
   {
    "duration": 1218,
    "start_time": "2021-09-09T19:53:04.873Z"
   },
   {
    "duration": 30,
    "start_time": "2021-09-09T19:53:06.093Z"
   },
   {
    "duration": 14,
    "start_time": "2021-09-09T19:53:06.126Z"
   },
   {
    "duration": 15,
    "start_time": "2021-09-09T19:53:06.142Z"
   },
   {
    "duration": 27,
    "start_time": "2021-09-09T19:53:06.159Z"
   },
   {
    "duration": 60,
    "start_time": "2021-09-09T19:53:06.188Z"
   },
   {
    "duration": 4,
    "start_time": "2021-09-09T19:53:06.250Z"
   },
   {
    "duration": 16,
    "start_time": "2021-09-09T19:53:06.258Z"
   },
   {
    "duration": 18,
    "start_time": "2021-09-09T19:53:06.277Z"
   },
   {
    "duration": 24,
    "start_time": "2021-09-09T19:53:06.297Z"
   },
   {
    "duration": 12,
    "start_time": "2021-09-09T19:53:06.323Z"
   },
   {
    "duration": 22,
    "start_time": "2021-09-09T19:53:06.337Z"
   },
   {
    "duration": 31,
    "start_time": "2021-09-09T19:53:06.361Z"
   },
   {
    "duration": 26,
    "start_time": "2021-09-09T19:53:06.394Z"
   },
   {
    "duration": 28,
    "start_time": "2021-09-09T19:53:06.422Z"
   },
   {
    "duration": 10,
    "start_time": "2021-09-09T19:53:06.451Z"
   },
   {
    "duration": 145,
    "start_time": "2021-09-09T19:53:06.463Z"
   },
   {
    "duration": 87,
    "start_time": "2021-09-09T19:53:06.610Z"
   },
   {
    "duration": 7693,
    "start_time": "2021-09-09T19:53:06.699Z"
   },
   {
    "duration": 216,
    "start_time": "2021-09-09T19:53:14.394Z"
   },
   {
    "duration": 193,
    "start_time": "2021-09-09T19:53:14.612Z"
   },
   {
    "duration": 56,
    "start_time": "2021-09-09T19:55:23.137Z"
   },
   {
    "duration": 7302,
    "start_time": "2021-09-09T19:56:44.833Z"
   },
   {
    "duration": 144,
    "start_time": "2021-09-09T20:00:00.356Z"
   },
   {
    "duration": 19384,
    "start_time": "2021-09-09T20:00:04.150Z"
   },
   {
    "duration": 158,
    "start_time": "2021-09-09T20:01:13.247Z"
   },
   {
    "duration": 59477,
    "start_time": "2021-09-09T20:01:15.119Z"
   },
   {
    "duration": 55653,
    "start_time": "2021-09-09T20:02:47.480Z"
   },
   {
    "duration": 30326,
    "start_time": "2021-09-09T20:04:15.835Z"
   },
   {
    "duration": 1172,
    "start_time": "2021-09-10T17:07:07.610Z"
   },
   {
    "duration": 29,
    "start_time": "2021-09-10T17:07:08.784Z"
   },
   {
    "duration": 14,
    "start_time": "2021-09-10T17:07:08.815Z"
   },
   {
    "duration": 10,
    "start_time": "2021-09-10T17:07:08.831Z"
   },
   {
    "duration": 9,
    "start_time": "2021-09-10T17:07:08.843Z"
   },
   {
    "duration": 56,
    "start_time": "2021-09-10T17:07:08.853Z"
   },
   {
    "duration": 4,
    "start_time": "2021-09-10T17:07:08.910Z"
   },
   {
    "duration": 7,
    "start_time": "2021-09-10T17:07:08.916Z"
   },
   {
    "duration": 4,
    "start_time": "2021-09-10T17:07:08.925Z"
   },
   {
    "duration": 13,
    "start_time": "2021-09-10T17:07:08.930Z"
   },
   {
    "duration": 38,
    "start_time": "2021-09-10T17:07:08.945Z"
   },
   {
    "duration": 4,
    "start_time": "2021-09-10T17:07:08.984Z"
   },
   {
    "duration": 10,
    "start_time": "2021-09-10T17:07:08.990Z"
   },
   {
    "duration": 12,
    "start_time": "2021-09-10T17:07:09.002Z"
   },
   {
    "duration": 20,
    "start_time": "2021-09-10T17:07:09.016Z"
   },
   {
    "duration": 40,
    "start_time": "2021-09-10T17:07:09.038Z"
   },
   {
    "duration": 132,
    "start_time": "2021-09-10T17:07:09.080Z"
   },
   {
    "duration": 67,
    "start_time": "2021-09-10T17:07:09.214Z"
   },
   {
    "duration": 8326,
    "start_time": "2021-09-10T17:07:09.283Z"
   },
   {
    "duration": 204,
    "start_time": "2021-09-10T17:07:17.610Z"
   },
   {
    "duration": 202,
    "start_time": "2021-09-10T17:07:17.815Z"
   },
   {
    "duration": 60,
    "start_time": "2021-09-10T17:07:18.018Z"
   },
   {
    "duration": 32707,
    "start_time": "2021-09-10T17:07:18.082Z"
   },
   {
    "duration": 10,
    "start_time": "2021-09-10T17:14:39.494Z"
   },
   {
    "duration": 121,
    "start_time": "2021-09-10T17:14:44.181Z"
   },
   {
    "duration": 611,
    "start_time": "2021-09-10T17:14:54.424Z"
   },
   {
    "duration": 4,
    "start_time": "2021-09-10T17:17:47.852Z"
   },
   {
    "duration": 3,
    "start_time": "2021-09-10T17:18:44.069Z"
   },
   {
    "duration": 5,
    "start_time": "2021-09-10T17:19:01.891Z"
   },
   {
    "duration": 698,
    "start_time": "2021-09-10T17:19:57.091Z"
   },
   {
    "duration": 4,
    "start_time": "2021-09-10T17:20:05.210Z"
   },
   {
    "duration": 1182,
    "start_time": "2021-09-10T18:19:12.317Z"
   },
   {
    "duration": 28,
    "start_time": "2021-09-10T18:19:13.501Z"
   },
   {
    "duration": 14,
    "start_time": "2021-09-10T18:19:13.531Z"
   },
   {
    "duration": 10,
    "start_time": "2021-09-10T18:19:13.546Z"
   },
   {
    "duration": 10,
    "start_time": "2021-09-10T18:19:13.558Z"
   },
   {
    "duration": 37,
    "start_time": "2021-09-10T18:19:13.576Z"
   },
   {
    "duration": 3,
    "start_time": "2021-09-10T18:19:13.614Z"
   },
   {
    "duration": 7,
    "start_time": "2021-09-10T18:19:13.619Z"
   },
   {
    "duration": 4,
    "start_time": "2021-09-10T18:19:13.628Z"
   },
   {
    "duration": 12,
    "start_time": "2021-09-10T18:19:13.634Z"
   },
   {
    "duration": 9,
    "start_time": "2021-09-10T18:19:13.675Z"
   },
   {
    "duration": 5,
    "start_time": "2021-09-10T18:19:13.685Z"
   },
   {
    "duration": 8,
    "start_time": "2021-09-10T18:19:13.692Z"
   },
   {
    "duration": 14,
    "start_time": "2021-09-10T18:19:13.701Z"
   },
   {
    "duration": 22,
    "start_time": "2021-09-10T18:19:13.716Z"
   },
   {
    "duration": 37,
    "start_time": "2021-09-10T18:19:13.740Z"
   },
   {
    "duration": 132,
    "start_time": "2021-09-10T18:19:13.779Z"
   },
   {
    "duration": 164,
    "start_time": "2021-09-10T18:19:13.912Z"
   },
   {
    "duration": 8120,
    "start_time": "2021-09-10T18:19:14.079Z"
   },
   {
    "duration": 223,
    "start_time": "2021-09-10T18:19:22.201Z"
   },
   {
    "duration": 195,
    "start_time": "2021-09-10T18:19:22.426Z"
   },
   {
    "duration": 58,
    "start_time": "2021-09-10T18:19:22.622Z"
   },
   {
    "duration": 32574,
    "start_time": "2021-09-10T18:19:22.684Z"
   },
   {
    "duration": 3,
    "start_time": "2021-09-10T18:19:55.260Z"
   },
   {
    "duration": 2039,
    "start_time": "2021-09-10T18:19:55.265Z"
   },
   {
    "duration": 2075,
    "start_time": "2021-09-10T18:20:28.023Z"
   },
   {
    "duration": 1976,
    "start_time": "2021-09-10T18:20:37.546Z"
   },
   {
    "duration": 5,
    "start_time": "2021-09-10T18:21:08.960Z"
   },
   {
    "duration": 1029,
    "start_time": "2021-09-10T18:21:09.877Z"
   },
   {
    "duration": 4,
    "start_time": "2021-09-10T18:21:29.532Z"
   },
   {
    "duration": 2032,
    "start_time": "2021-09-10T18:21:30.169Z"
   },
   {
    "duration": 4156,
    "start_time": "2021-09-10T18:28:38.451Z"
   },
   {
    "duration": 22076,
    "start_time": "2021-09-10T18:42:11.863Z"
   },
   {
    "duration": 4,
    "start_time": "2021-09-10T18:43:12.433Z"
   },
   {
    "duration": 6,
    "start_time": "2021-09-10T18:43:30.499Z"
   },
   {
    "duration": 22070,
    "start_time": "2021-09-10T18:43:34.329Z"
   },
   {
    "duration": 15799,
    "start_time": "2021-09-10T18:44:43.404Z"
   },
   {
    "duration": 4,
    "start_time": "2021-09-10T19:23:00.999Z"
   },
   {
    "duration": 4,
    "start_time": "2021-09-10T19:23:23.911Z"
   },
   {
    "duration": 1185,
    "start_time": "2021-09-10T19:34:44.795Z"
   },
   {
    "duration": 30,
    "start_time": "2021-09-10T19:34:45.982Z"
   },
   {
    "duration": 14,
    "start_time": "2021-09-10T19:34:46.014Z"
   },
   {
    "duration": 12,
    "start_time": "2021-09-10T19:34:46.030Z"
   },
   {
    "duration": 9,
    "start_time": "2021-09-10T19:34:46.043Z"
   },
   {
    "duration": 50,
    "start_time": "2021-09-10T19:34:46.053Z"
   },
   {
    "duration": 4,
    "start_time": "2021-09-10T19:34:46.104Z"
   },
   {
    "duration": 6,
    "start_time": "2021-09-10T19:34:46.110Z"
   },
   {
    "duration": 4,
    "start_time": "2021-09-10T19:34:46.118Z"
   },
   {
    "duration": 13,
    "start_time": "2021-09-10T19:34:46.124Z"
   },
   {
    "duration": 7,
    "start_time": "2021-09-10T19:34:46.139Z"
   },
   {
    "duration": 31,
    "start_time": "2021-09-10T19:34:46.147Z"
   },
   {
    "duration": 6,
    "start_time": "2021-09-10T19:34:46.180Z"
   },
   {
    "duration": 12,
    "start_time": "2021-09-10T19:34:46.188Z"
   },
   {
    "duration": 21,
    "start_time": "2021-09-10T19:34:46.201Z"
   },
   {
    "duration": 11,
    "start_time": "2021-09-10T19:34:46.224Z"
   },
   {
    "duration": 158,
    "start_time": "2021-09-10T19:34:46.236Z"
   },
   {
    "duration": 80,
    "start_time": "2021-09-10T19:34:46.396Z"
   },
   {
    "duration": 8137,
    "start_time": "2021-09-10T19:34:46.478Z"
   },
   {
    "duration": 217,
    "start_time": "2021-09-10T19:34:54.617Z"
   },
   {
    "duration": 202,
    "start_time": "2021-09-10T19:34:54.836Z"
   },
   {
    "duration": 50,
    "start_time": "2021-09-10T19:34:55.040Z"
   },
   {
    "duration": 32267,
    "start_time": "2021-09-10T19:34:55.094Z"
   },
   {
    "duration": 4,
    "start_time": "2021-09-10T19:35:27.363Z"
   },
   {
    "duration": 4202,
    "start_time": "2021-09-10T19:35:27.377Z"
   },
   {
    "duration": 15684,
    "start_time": "2021-09-10T19:35:31.581Z"
   },
   {
    "duration": 9,
    "start_time": "2021-09-10T19:35:47.267Z"
   },
   {
    "duration": 454,
    "start_time": "2021-09-10T19:47:48.451Z"
   },
   {
    "duration": 351,
    "start_time": "2021-09-10T19:48:07.251Z"
   },
   {
    "duration": 26,
    "start_time": "2021-09-10T19:48:16.712Z"
   },
   {
    "duration": 567,
    "start_time": "2021-09-10T19:49:25.930Z"
   },
   {
    "duration": 4,
    "start_time": "2021-09-10T19:49:37.510Z"
   },
   {
    "duration": 3,
    "start_time": "2021-09-10T19:49:41.665Z"
   },
   {
    "duration": 786,
    "start_time": "2021-09-10T19:49:51.921Z"
   },
   {
    "duration": 25,
    "start_time": "2021-09-10T19:50:07.670Z"
   },
   {
    "duration": 763,
    "start_time": "2021-09-10T19:50:14.728Z"
   },
   {
    "duration": 405,
    "start_time": "2021-09-10T19:50:45.978Z"
   },
   {
    "duration": 5260,
    "start_time": "2021-09-10T19:50:52.716Z"
   },
   {
    "duration": 3699,
    "start_time": "2021-09-10T19:52:41.992Z"
   },
   {
    "duration": 4609,
    "start_time": "2021-09-10T19:53:04.894Z"
   },
   {
    "duration": 3666,
    "start_time": "2021-09-10T19:53:14.930Z"
   },
   {
    "duration": 4385,
    "start_time": "2021-09-10T19:56:02.949Z"
   },
   {
    "duration": 5438,
    "start_time": "2021-09-10T19:56:51.456Z"
   },
   {
    "duration": 4086,
    "start_time": "2021-09-10T19:57:03.304Z"
   },
   {
    "duration": 1541,
    "start_time": "2021-09-11T19:54:44.666Z"
   },
   {
    "duration": 40,
    "start_time": "2021-09-11T19:54:46.210Z"
   },
   {
    "duration": 25,
    "start_time": "2021-09-11T19:54:46.258Z"
   },
   {
    "duration": 21,
    "start_time": "2021-09-11T19:54:46.286Z"
   },
   {
    "duration": 14,
    "start_time": "2021-09-11T19:54:46.310Z"
   },
   {
    "duration": 63,
    "start_time": "2021-09-11T19:54:46.357Z"
   },
   {
    "duration": 6,
    "start_time": "2021-09-11T19:54:46.423Z"
   },
   {
    "duration": 11,
    "start_time": "2021-09-11T19:54:46.460Z"
   },
   {
    "duration": 8,
    "start_time": "2021-09-11T19:54:46.475Z"
   },
   {
    "duration": 30,
    "start_time": "2021-09-11T19:54:46.486Z"
   },
   {
    "duration": 46,
    "start_time": "2021-09-11T19:54:46.519Z"
   },
   {
    "duration": 7,
    "start_time": "2021-09-11T19:54:46.567Z"
   },
   {
    "duration": 12,
    "start_time": "2021-09-11T19:54:46.577Z"
   },
   {
    "duration": 21,
    "start_time": "2021-09-11T19:54:46.591Z"
   },
   {
    "duration": 66,
    "start_time": "2021-09-11T19:54:46.615Z"
   },
   {
    "duration": 15,
    "start_time": "2021-09-11T19:54:46.683Z"
   },
   {
    "duration": 233,
    "start_time": "2021-09-11T19:54:46.700Z"
   },
   {
    "duration": 127,
    "start_time": "2021-09-11T19:54:46.935Z"
   },
   {
    "duration": 12076,
    "start_time": "2021-09-11T19:54:47.065Z"
   },
   {
    "duration": 350,
    "start_time": "2021-09-11T19:54:59.144Z"
   },
   {
    "duration": 317,
    "start_time": "2021-09-11T19:54:59.496Z"
   },
   {
    "duration": 241,
    "start_time": "2021-09-11T19:54:59.815Z"
   },
   {
    "duration": 46834,
    "start_time": "2021-09-11T19:55:00.061Z"
   },
   {
    "duration": 5,
    "start_time": "2021-09-11T19:55:46.898Z"
   },
   {
    "duration": 5457,
    "start_time": "2021-09-11T19:55:46.906Z"
   },
   {
    "duration": 26188,
    "start_time": "2021-09-11T19:55:52.457Z"
   },
   {
    "duration": 10,
    "start_time": "2021-09-11T19:56:18.647Z"
   },
   {
    "duration": 3898,
    "start_time": "2021-09-11T19:56:18.660Z"
   },
   {
    "duration": 6149,
    "start_time": "2021-09-11T19:56:22.566Z"
   },
   {
    "duration": 586,
    "start_time": "2021-09-11T20:07:52.742Z"
   },
   {
    "duration": 498,
    "start_time": "2021-09-11T20:10:04.159Z"
   },
   {
    "duration": 42,
    "start_time": "2021-09-11T20:10:17.184Z"
   },
   {
    "duration": 927,
    "start_time": "2021-09-11T20:11:30.250Z"
   },
   {
    "duration": 43,
    "start_time": "2021-09-11T20:12:13.977Z"
   },
   {
    "duration": 256,
    "start_time": "2021-09-11T20:15:44.482Z"
   },
   {
    "duration": 7,
    "start_time": "2021-09-11T20:17:57.348Z"
   },
   {
    "duration": 8,
    "start_time": "2021-09-11T20:18:04.898Z"
   },
   {
    "duration": 8,
    "start_time": "2021-09-11T20:18:35.346Z"
   },
   {
    "duration": 8,
    "start_time": "2021-09-11T20:21:48.158Z"
   },
   {
    "duration": 1152,
    "start_time": "2021-09-12T16:40:28.235Z"
   },
   {
    "duration": 29,
    "start_time": "2021-09-12T16:40:29.390Z"
   },
   {
    "duration": 14,
    "start_time": "2021-09-12T16:40:29.421Z"
   },
   {
    "duration": 12,
    "start_time": "2021-09-12T16:40:29.437Z"
   },
   {
    "duration": 8,
    "start_time": "2021-09-12T16:40:29.451Z"
   },
   {
    "duration": 52,
    "start_time": "2021-09-12T16:40:29.461Z"
   },
   {
    "duration": 3,
    "start_time": "2021-09-12T16:40:29.514Z"
   },
   {
    "duration": 9,
    "start_time": "2021-09-12T16:40:29.520Z"
   },
   {
    "duration": 4,
    "start_time": "2021-09-12T16:40:29.531Z"
   },
   {
    "duration": 12,
    "start_time": "2021-09-12T16:40:29.537Z"
   },
   {
    "duration": 7,
    "start_time": "2021-09-12T16:40:29.577Z"
   },
   {
    "duration": 5,
    "start_time": "2021-09-12T16:40:29.586Z"
   },
   {
    "duration": 7,
    "start_time": "2021-09-12T16:40:29.593Z"
   },
   {
    "duration": 13,
    "start_time": "2021-09-12T16:40:29.602Z"
   },
   {
    "duration": 21,
    "start_time": "2021-09-12T16:40:29.617Z"
   },
   {
    "duration": 46,
    "start_time": "2021-09-12T16:40:29.640Z"
   },
   {
    "duration": 142,
    "start_time": "2021-09-12T16:40:29.688Z"
   },
   {
    "duration": 147,
    "start_time": "2021-09-12T16:40:29.832Z"
   },
   {
    "duration": 8823,
    "start_time": "2021-09-12T16:40:29.981Z"
   },
   {
    "duration": 214,
    "start_time": "2021-09-12T16:40:38.805Z"
   },
   {
    "duration": 219,
    "start_time": "2021-09-12T16:40:39.021Z"
   },
   {
    "duration": 135,
    "start_time": "2021-09-12T16:40:39.242Z"
   },
   {
    "duration": 32538,
    "start_time": "2021-09-12T16:40:39.381Z"
   },
   {
    "duration": 4,
    "start_time": "2021-09-12T16:41:11.921Z"
   },
   {
    "duration": 4059,
    "start_time": "2021-09-12T16:41:11.926Z"
   },
   {
    "duration": 15471,
    "start_time": "2021-09-12T16:41:15.987Z"
   },
   {
    "duration": 4,
    "start_time": "2021-09-12T16:41:31.459Z"
   },
   {
    "duration": 3728,
    "start_time": "2021-09-12T16:41:31.465Z"
   },
   {
    "duration": 4284,
    "start_time": "2021-09-12T16:41:35.195Z"
   },
   {
    "duration": 407,
    "start_time": "2021-09-12T16:41:39.481Z"
   },
   {
    "duration": 29,
    "start_time": "2021-09-12T16:41:39.890Z"
   },
   {
    "duration": 172,
    "start_time": "2021-09-12T16:41:39.921Z"
   },
   {
    "duration": 5,
    "start_time": "2021-09-12T16:41:40.094Z"
   },
   {
    "duration": 5,
    "start_time": "2021-09-12T16:56:01.663Z"
   },
   {
    "duration": 6,
    "start_time": "2021-09-12T20:20:14.675Z"
   },
   {
    "duration": 1080,
    "start_time": "2021-09-12T20:20:17.107Z"
   },
   {
    "duration": 4,
    "start_time": "2021-09-12T20:20:22.516Z"
   },
   {
    "duration": 1988,
    "start_time": "2021-09-12T20:20:25.639Z"
   },
   {
    "duration": 42,
    "start_time": "2021-09-12T20:20:27.633Z"
   },
   {
    "duration": 24,
    "start_time": "2021-09-12T20:20:29.981Z"
   },
   {
    "duration": 18,
    "start_time": "2021-09-12T20:20:30.794Z"
   },
   {
    "duration": 12,
    "start_time": "2021-09-12T20:20:32.993Z"
   },
   {
    "duration": 61,
    "start_time": "2021-09-12T20:20:33.602Z"
   },
   {
    "duration": 5,
    "start_time": "2021-09-12T20:20:35.685Z"
   },
   {
    "duration": 9,
    "start_time": "2021-09-12T20:20:36.693Z"
   },
   {
    "duration": 7,
    "start_time": "2021-09-12T20:20:40.126Z"
   },
   {
    "duration": 18,
    "start_time": "2021-09-12T20:20:41.142Z"
   },
   {
    "duration": 15,
    "start_time": "2021-09-12T20:20:45.754Z"
   },
   {
    "duration": 7,
    "start_time": "2021-09-12T20:20:51.113Z"
   },
   {
    "duration": 10,
    "start_time": "2021-09-12T20:20:52.888Z"
   },
   {
    "duration": 19,
    "start_time": "2021-09-12T20:20:56.439Z"
   },
   {
    "duration": 38,
    "start_time": "2021-09-12T20:21:01.255Z"
   },
   {
    "duration": 19,
    "start_time": "2021-09-12T20:21:05.510Z"
   },
   {
    "duration": 212,
    "start_time": "2021-09-12T20:21:13.537Z"
   },
   {
    "duration": 86,
    "start_time": "2021-09-12T20:21:17.480Z"
   },
   {
    "duration": 10945,
    "start_time": "2021-09-12T20:21:36.394Z"
   },
   {
    "duration": 340,
    "start_time": "2021-09-12T20:22:01.685Z"
   },
   {
    "duration": 360,
    "start_time": "2021-09-12T20:22:09.787Z"
   },
   {
    "duration": 115,
    "start_time": "2021-09-12T20:23:00.154Z"
   },
   {
    "duration": 44142,
    "start_time": "2021-09-12T20:23:02.641Z"
   },
   {
    "duration": 742,
    "start_time": "2021-09-12T20:27:16.614Z"
   },
   {
    "duration": 936,
    "start_time": "2021-09-12T20:29:59.149Z"
   },
   {
    "duration": 5,
    "start_time": "2021-09-12T20:30:50.132Z"
   },
   {
    "duration": 5383,
    "start_time": "2021-09-12T20:30:54.874Z"
   },
   {
    "duration": 26980,
    "start_time": "2021-09-12T20:31:04.161Z"
   },
   {
    "duration": 6,
    "start_time": "2021-09-12T20:31:53.433Z"
   },
   {
    "duration": 3815,
    "start_time": "2021-09-12T20:31:57.344Z"
   },
   {
    "duration": 5755,
    "start_time": "2021-09-12T20:32:05.625Z"
   },
   {
    "duration": 543,
    "start_time": "2021-09-12T20:32:34.523Z"
   },
   {
    "duration": 39,
    "start_time": "2021-09-12T20:32:37.858Z"
   },
   {
    "duration": 354,
    "start_time": "2021-09-12T20:32:39.414Z"
   },
   {
    "duration": 12,
    "start_time": "2021-09-12T20:32:49.462Z"
   },
   {
    "duration": 1644,
    "start_time": "2021-09-13T10:02:38.475Z"
   },
   {
    "duration": 34,
    "start_time": "2021-09-13T10:02:40.122Z"
   },
   {
    "duration": 31,
    "start_time": "2021-09-13T10:02:40.159Z"
   },
   {
    "duration": 18,
    "start_time": "2021-09-13T10:02:40.193Z"
   },
   {
    "duration": 12,
    "start_time": "2021-09-13T10:02:40.213Z"
   },
   {
    "duration": 88,
    "start_time": "2021-09-13T10:02:40.228Z"
   },
   {
    "duration": 5,
    "start_time": "2021-09-13T10:02:40.319Z"
   },
   {
    "duration": 8,
    "start_time": "2021-09-13T10:02:40.328Z"
   },
   {
    "duration": 18,
    "start_time": "2021-09-13T10:02:40.340Z"
   },
   {
    "duration": 20,
    "start_time": "2021-09-13T10:02:40.382Z"
   },
   {
    "duration": 13,
    "start_time": "2021-09-13T10:02:40.405Z"
   },
   {
    "duration": 7,
    "start_time": "2021-09-13T10:02:40.421Z"
   },
   {
    "duration": 13,
    "start_time": "2021-09-13T10:02:40.431Z"
   },
   {
    "duration": 55,
    "start_time": "2021-09-13T10:02:40.446Z"
   },
   {
    "duration": 42,
    "start_time": "2021-09-13T10:02:40.504Z"
   },
   {
    "duration": 50,
    "start_time": "2021-09-13T10:02:40.549Z"
   },
   {
    "duration": 218,
    "start_time": "2021-09-13T10:02:40.602Z"
   },
   {
    "duration": 71,
    "start_time": "2021-09-13T10:02:40.823Z"
   },
   {
    "duration": 10315,
    "start_time": "2021-09-13T10:02:40.986Z"
   },
   {
    "duration": 336,
    "start_time": "2021-09-13T10:02:51.303Z"
   },
   {
    "duration": 344,
    "start_time": "2021-09-13T10:02:51.641Z"
   },
   {
    "duration": 198,
    "start_time": "2021-09-13T10:02:51.987Z"
   },
   {
    "duration": 39824,
    "start_time": "2021-09-13T10:02:52.192Z"
   },
   {
    "duration": 5,
    "start_time": "2021-09-13T10:03:32.019Z"
   },
   {
    "duration": 5160,
    "start_time": "2021-09-13T10:03:32.027Z"
   },
   {
    "duration": 26048,
    "start_time": "2021-09-13T10:03:37.190Z"
   },
   {
    "duration": 6,
    "start_time": "2021-09-13T10:04:03.241Z"
   },
   {
    "duration": 3936,
    "start_time": "2021-09-13T10:04:03.250Z"
   },
   {
    "duration": 5421,
    "start_time": "2021-09-13T10:04:07.189Z"
   },
   {
    "duration": 515,
    "start_time": "2021-09-13T10:04:12.613Z"
   },
   {
    "duration": 51,
    "start_time": "2021-09-13T10:04:13.131Z"
   },
   {
    "duration": 266,
    "start_time": "2021-09-13T10:04:13.185Z"
   },
   {
    "duration": 7,
    "start_time": "2021-09-13T10:04:13.454Z"
   }
  ],
  "kernelspec": {
   "display_name": "Python 3",
   "language": "python",
   "name": "python3"
  },
  "language_info": {
   "codemirror_mode": {
    "name": "ipython",
    "version": 3
   },
   "file_extension": ".py",
   "mimetype": "text/x-python",
   "name": "python",
   "nbconvert_exporter": "python",
   "pygments_lexer": "ipython3",
   "version": "3.8.3"
  },
  "toc": {
   "base_numbering": 1,
   "nav_menu": {},
   "number_sections": true,
   "sideBar": true,
   "skip_h1_title": true,
   "title_cell": "Table of Contents",
   "title_sidebar": "Contents",
   "toc_cell": true,
   "toc_position": {
    "height": "calc(100% - 180px)",
    "left": "10px",
    "top": "150px",
    "width": "270.391px"
   },
   "toc_section_display": true,
   "toc_window_display": true
  }
 },
 "nbformat": 4,
 "nbformat_minor": 4
}
